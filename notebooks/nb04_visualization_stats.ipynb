{
 "cells": [
  {
   "cell_type": "markdown",
   "metadata": {},
   "source": [
    "# notebook n04: Validation of Freezing\n",
    "\n",
    "Jose Oliveira da Cruz, PhD  | LeDoux Lab  \n",
    "jose.cruz@nyu.edu  \n",
    "\n",
    "<img src=\"LedouxLab_logo.jpg\" style=\"width: 300.464px; height: 100px; margin: 0px;\">   \n"
   ]
  },
  {
   "cell_type": "markdown",
   "metadata": {},
   "source": [
    "This notebooks takes the .csv output from nb03 and computes some validation statistics for the freezing algorithm."
   ]
  },
  {
   "cell_type": "markdown",
   "metadata": {},
   "source": [
    "### Import dependencies"
   ]
  },
  {
   "cell_type": "code",
   "execution_count": 53,
   "metadata": {},
   "outputs": [],
   "source": [
    "# Standart Library\n",
    "import sys\n",
    "import os\n",
    "\n",
    "# Data Analysis\n",
    "import numpy as np\n",
    "import pandas as pd\n",
    "\n",
    "# Data Visualization\n",
    "import matplotlib.pyplot as plt\n",
    "import seaborn as sns\n",
    "\n",
    "# Statistical Analysis\n",
    "import pingouin as pg\n",
    "from scipy import stats\n",
    "import sklearn"
   ]
  },
  {
   "cell_type": "markdown",
   "metadata": {},
   "source": [
    "<a id='step_1'><a/>\n",
    "# 1) Load the data: `_merged_summary_stats.csv`"
   ]
  },
  {
   "cell_type": "code",
   "execution_count": 54,
   "metadata": {},
   "outputs": [],
   "source": [
    "#where is the file\n",
    "dir_path = r'D:\\GoogleDrive\\work\\postdoc_nyu\\scientific_projects\\individual_differences\\data\\processed\\EXP004\\individual_summary_stats'\n",
    "file_path = r'jc_exp004_20200110_tes01_r_merged_summary_stats.csv'\n",
    "\n",
    "summary_stats_dlc = pd.read_csv(os.path.join(dir_path, file_path), index_col=0)"
   ]
  },
  {
   "cell_type": "code",
   "execution_count": 55,
   "metadata": {},
   "outputs": [
    {
     "data": {
      "text/html": [
       "<div>\n",
       "<style scoped>\n",
       "    .dataframe tbody tr th:only-of-type {\n",
       "        vertical-align: middle;\n",
       "    }\n",
       "\n",
       "    .dataframe tbody tr th {\n",
       "        vertical-align: top;\n",
       "    }\n",
       "\n",
       "    .dataframe thead th {\n",
       "        text-align: right;\n",
       "    }\n",
       "</style>\n",
       "<table border=\"1\" class=\"dataframe\">\n",
       "  <thead>\n",
       "    <tr style=\"text-align: right;\">\n",
       "      <th></th>\n",
       "      <th>user</th>\n",
       "      <th>exp_id</th>\n",
       "      <th>treatment</th>\n",
       "      <th>session</th>\n",
       "      <th>species</th>\n",
       "      <th>animal_id</th>\n",
       "      <th>age_days</th>\n",
       "      <th>weight_grams</th>\n",
       "      <th>sex</th>\n",
       "      <th>cs_id</th>\n",
       "      <th>cs_epoch</th>\n",
       "      <th>freezing_raw</th>\n",
       "      <th>freezing_norm</th>\n",
       "      <th>darting_raw</th>\n",
       "      <th>darting_norm</th>\n",
       "      <th>darting_events</th>\n",
       "      <th>total_distance_cm</th>\n",
       "      <th>mean_speed_cm/sec</th>\n",
       "    </tr>\n",
       "  </thead>\n",
       "  <tbody>\n",
       "    <tr>\n",
       "      <th>0</th>\n",
       "      <td>jc</td>\n",
       "      <td>exp004</td>\n",
       "      <td>NaN</td>\n",
       "      <td>tes01</td>\n",
       "      <td>rat</td>\n",
       "      <td>286586</td>\n",
       "      <td>99</td>\n",
       "      <td>NaN</td>\n",
       "      <td>male</td>\n",
       "      <td>cs_01</td>\n",
       "      <td>peri_cs</td>\n",
       "      <td>718</td>\n",
       "      <td>0.80</td>\n",
       "      <td>0</td>\n",
       "      <td>0.0</td>\n",
       "      <td>0</td>\n",
       "      <td>79.92</td>\n",
       "      <td>2.66</td>\n",
       "    </tr>\n",
       "    <tr>\n",
       "      <th>1</th>\n",
       "      <td>jc</td>\n",
       "      <td>exp004</td>\n",
       "      <td>NaN</td>\n",
       "      <td>tes01</td>\n",
       "      <td>rat</td>\n",
       "      <td>286586</td>\n",
       "      <td>99</td>\n",
       "      <td>NaN</td>\n",
       "      <td>male</td>\n",
       "      <td>cs_01</td>\n",
       "      <td>post_cs</td>\n",
       "      <td>597</td>\n",
       "      <td>0.66</td>\n",
       "      <td>0</td>\n",
       "      <td>0.0</td>\n",
       "      <td>0</td>\n",
       "      <td>74.58</td>\n",
       "      <td>2.49</td>\n",
       "    </tr>\n",
       "    <tr>\n",
       "      <th>2</th>\n",
       "      <td>jc</td>\n",
       "      <td>exp004</td>\n",
       "      <td>NaN</td>\n",
       "      <td>tes01</td>\n",
       "      <td>rat</td>\n",
       "      <td>286586</td>\n",
       "      <td>99</td>\n",
       "      <td>NaN</td>\n",
       "      <td>male</td>\n",
       "      <td>cs_01</td>\n",
       "      <td>pre_cs</td>\n",
       "      <td>443</td>\n",
       "      <td>0.49</td>\n",
       "      <td>0</td>\n",
       "      <td>0.0</td>\n",
       "      <td>0</td>\n",
       "      <td>105.40</td>\n",
       "      <td>3.51</td>\n",
       "    </tr>\n",
       "    <tr>\n",
       "      <th>3</th>\n",
       "      <td>jc</td>\n",
       "      <td>exp004</td>\n",
       "      <td>NaN</td>\n",
       "      <td>tes01</td>\n",
       "      <td>rat</td>\n",
       "      <td>286586</td>\n",
       "      <td>99</td>\n",
       "      <td>NaN</td>\n",
       "      <td>male</td>\n",
       "      <td>cs_02</td>\n",
       "      <td>peri_cs</td>\n",
       "      <td>589</td>\n",
       "      <td>0.65</td>\n",
       "      <td>0</td>\n",
       "      <td>0.0</td>\n",
       "      <td>0</td>\n",
       "      <td>92.83</td>\n",
       "      <td>3.09</td>\n",
       "    </tr>\n",
       "    <tr>\n",
       "      <th>4</th>\n",
       "      <td>jc</td>\n",
       "      <td>exp004</td>\n",
       "      <td>NaN</td>\n",
       "      <td>tes01</td>\n",
       "      <td>rat</td>\n",
       "      <td>286586</td>\n",
       "      <td>99</td>\n",
       "      <td>NaN</td>\n",
       "      <td>male</td>\n",
       "      <td>cs_02</td>\n",
       "      <td>post_cs</td>\n",
       "      <td>741</td>\n",
       "      <td>0.82</td>\n",
       "      <td>0</td>\n",
       "      <td>0.0</td>\n",
       "      <td>0</td>\n",
       "      <td>76.73</td>\n",
       "      <td>2.56</td>\n",
       "    </tr>\n",
       "  </tbody>\n",
       "</table>\n",
       "</div>"
      ],
      "text/plain": [
       "  user  exp_id  treatment session species  animal_id  age_days  weight_grams  \\\n",
       "0   jc  exp004        NaN   tes01     rat     286586        99           NaN   \n",
       "1   jc  exp004        NaN   tes01     rat     286586        99           NaN   \n",
       "2   jc  exp004        NaN   tes01     rat     286586        99           NaN   \n",
       "3   jc  exp004        NaN   tes01     rat     286586        99           NaN   \n",
       "4   jc  exp004        NaN   tes01     rat     286586        99           NaN   \n",
       "\n",
       "    sex  cs_id cs_epoch  freezing_raw  freezing_norm  darting_raw  \\\n",
       "0  male  cs_01  peri_cs           718           0.80            0   \n",
       "1  male  cs_01  post_cs           597           0.66            0   \n",
       "2  male  cs_01   pre_cs           443           0.49            0   \n",
       "3  male  cs_02  peri_cs           589           0.65            0   \n",
       "4  male  cs_02  post_cs           741           0.82            0   \n",
       "\n",
       "   darting_norm  darting_events  total_distance_cm  mean_speed_cm/sec  \n",
       "0           0.0               0              79.92               2.66  \n",
       "1           0.0               0              74.58               2.49  \n",
       "2           0.0               0             105.40               3.51  \n",
       "3           0.0               0              92.83               3.09  \n",
       "4           0.0               0              76.73               2.56  "
      ]
     },
     "execution_count": 55,
     "metadata": {},
     "output_type": "execute_result"
    }
   ],
   "source": [
    "summary_stats_dlc.head()"
   ]
  },
  {
   "cell_type": "markdown",
   "metadata": {},
   "source": [
    "# 2) Create a Validation DataSet"
   ]
  },
  {
   "cell_type": "markdown",
   "metadata": {},
   "source": [
    "\n",
    "### 2.1) Prepare data from dlc to analyse"
   ]
  },
  {
   "cell_type": "code",
   "execution_count": 56,
   "metadata": {},
   "outputs": [],
   "source": [
    "# Subset by condition\n",
    "condition = summary_stats_dlc['cs_epoch']=='peri_cs'\n",
    "\n",
    "# Select only certain columns\n",
    "summary_stats_dlc = summary_stats_dlc[condition][['animal_id', 'cs_id', 'cs_epoch', 'freezing_norm']]"
   ]
  },
  {
   "cell_type": "code",
   "execution_count": 57,
   "metadata": {},
   "outputs": [],
   "source": [
    "summary_stats_dlc.rename(columns={'freezing_norm': 'freezing_norm_dlc'}, inplace=True)"
   ]
  },
  {
   "cell_type": "code",
   "execution_count": 58,
   "metadata": {},
   "outputs": [],
   "source": [
    "summary_stats_dlc.sort_values(by=['animal_id', 'cs_id'], inplace=True)"
   ]
  },
  {
   "cell_type": "code",
   "execution_count": 59,
   "metadata": {},
   "outputs": [
    {
     "data": {
      "text/html": [
       "<div>\n",
       "<style scoped>\n",
       "    .dataframe tbody tr th:only-of-type {\n",
       "        vertical-align: middle;\n",
       "    }\n",
       "\n",
       "    .dataframe tbody tr th {\n",
       "        vertical-align: top;\n",
       "    }\n",
       "\n",
       "    .dataframe thead th {\n",
       "        text-align: right;\n",
       "    }\n",
       "</style>\n",
       "<table border=\"1\" class=\"dataframe\">\n",
       "  <thead>\n",
       "    <tr style=\"text-align: right;\">\n",
       "      <th></th>\n",
       "      <th>animal_id</th>\n",
       "      <th>cs_id</th>\n",
       "      <th>cs_epoch</th>\n",
       "      <th>freezing_norm_dlc</th>\n",
       "    </tr>\n",
       "  </thead>\n",
       "  <tbody>\n",
       "    <tr>\n",
       "      <th>0</th>\n",
       "      <td>286586</td>\n",
       "      <td>cs_01</td>\n",
       "      <td>peri_cs</td>\n",
       "      <td>0.80</td>\n",
       "    </tr>\n",
       "    <tr>\n",
       "      <th>3</th>\n",
       "      <td>286586</td>\n",
       "      <td>cs_02</td>\n",
       "      <td>peri_cs</td>\n",
       "      <td>0.65</td>\n",
       "    </tr>\n",
       "    <tr>\n",
       "      <th>6</th>\n",
       "      <td>286586</td>\n",
       "      <td>cs_03</td>\n",
       "      <td>peri_cs</td>\n",
       "      <td>0.34</td>\n",
       "    </tr>\n",
       "    <tr>\n",
       "      <th>9</th>\n",
       "      <td>286586</td>\n",
       "      <td>cs_04</td>\n",
       "      <td>peri_cs</td>\n",
       "      <td>0.08</td>\n",
       "    </tr>\n",
       "    <tr>\n",
       "      <th>12</th>\n",
       "      <td>286586</td>\n",
       "      <td>cs_05</td>\n",
       "      <td>peri_cs</td>\n",
       "      <td>0.34</td>\n",
       "    </tr>\n",
       "    <tr>\n",
       "      <th>...</th>\n",
       "      <td>...</td>\n",
       "      <td>...</td>\n",
       "      <td>...</td>\n",
       "      <td>...</td>\n",
       "    </tr>\n",
       "    <tr>\n",
       "      <th>210</th>\n",
       "      <td>286600</td>\n",
       "      <td>cs_01</td>\n",
       "      <td>peri_cs</td>\n",
       "      <td>0.67</td>\n",
       "    </tr>\n",
       "    <tr>\n",
       "      <th>213</th>\n",
       "      <td>286600</td>\n",
       "      <td>cs_02</td>\n",
       "      <td>peri_cs</td>\n",
       "      <td>0.82</td>\n",
       "    </tr>\n",
       "    <tr>\n",
       "      <th>216</th>\n",
       "      <td>286600</td>\n",
       "      <td>cs_03</td>\n",
       "      <td>peri_cs</td>\n",
       "      <td>0.89</td>\n",
       "    </tr>\n",
       "    <tr>\n",
       "      <th>219</th>\n",
       "      <td>286600</td>\n",
       "      <td>cs_04</td>\n",
       "      <td>peri_cs</td>\n",
       "      <td>0.86</td>\n",
       "    </tr>\n",
       "    <tr>\n",
       "      <th>222</th>\n",
       "      <td>286600</td>\n",
       "      <td>cs_05</td>\n",
       "      <td>peri_cs</td>\n",
       "      <td>0.91</td>\n",
       "    </tr>\n",
       "  </tbody>\n",
       "</table>\n",
       "<p>75 rows × 4 columns</p>\n",
       "</div>"
      ],
      "text/plain": [
       "     animal_id  cs_id cs_epoch  freezing_norm_dlc\n",
       "0       286586  cs_01  peri_cs               0.80\n",
       "3       286586  cs_02  peri_cs               0.65\n",
       "6       286586  cs_03  peri_cs               0.34\n",
       "9       286586  cs_04  peri_cs               0.08\n",
       "12      286586  cs_05  peri_cs               0.34\n",
       "..         ...    ...      ...                ...\n",
       "210     286600  cs_01  peri_cs               0.67\n",
       "213     286600  cs_02  peri_cs               0.82\n",
       "216     286600  cs_03  peri_cs               0.89\n",
       "219     286600  cs_04  peri_cs               0.86\n",
       "222     286600  cs_05  peri_cs               0.91\n",
       "\n",
       "[75 rows x 4 columns]"
      ]
     },
     "execution_count": 59,
     "metadata": {},
     "output_type": "execute_result"
    }
   ],
   "source": [
    "summary_stats_dlc"
   ]
  },
  {
   "cell_type": "markdown",
   "metadata": {},
   "source": [
    "### 2.2) Prepare data from rodrigo to analyse"
   ]
  },
  {
   "cell_type": "code",
   "execution_count": 60,
   "metadata": {},
   "outputs": [],
   "source": [
    "#where is the file\n",
    "dir_path_rt = r'D:\\GoogleDrive\\work\\postdoc_nyu\\scientific_projects\\individual_differences\\data\\external\\RT\\EXP004'\n",
    "file_path_rt = r'RT_EXP004_norm_data_2nd_scoring.csv'\n",
    "\n",
    "summary_stats_rt = pd.read_csv(os.path.join(dir_path_rt, file_path_rt), index_col=0\n",
    "                              )\n",
    "summary_stats_rt = summary_stats_rt.drop(columns=['Group', 'Sex', 'Exp', 'Session'])"
   ]
  },
  {
   "cell_type": "code",
   "execution_count": 61,
   "metadata": {},
   "outputs": [],
   "source": [
    "# put columns names in lowercase\n",
    "summary_stats_rt.columns = summary_stats_rt.columns.str.lower()\n",
    "# Add new columns with the cs_epoch\n",
    "summary_stats_rt['cs_epoch'] = 'peri_cs'"
   ]
  },
  {
   "cell_type": "code",
   "execution_count": 62,
   "metadata": {},
   "outputs": [],
   "source": [
    "# Reorder the columns\n",
    "summary_stats_rt = summary_stats_rt[['animal_id', 'cs_epoch']+[f'cs_0{n}' for n in range(1, 6)]]"
   ]
  },
  {
   "cell_type": "code",
   "execution_count": 63,
   "metadata": {},
   "outputs": [],
   "source": [
    "# Transform the table into the same format as the dlc\n",
    "summary_stats_rt = summary_stats_rt.melt(\n",
    "    id_vars=['animal_id', 'cs_epoch'],\n",
    "    value_vars=[f'cs_0{n}' for n in range(1, 6)],\n",
    "    value_name='freezing_norm_rt',\n",
    "    var_name='cs_id',\n",
    ")"
   ]
  },
  {
   "cell_type": "code",
   "execution_count": 64,
   "metadata": {},
   "outputs": [],
   "source": [
    "# Correct normalization (0 to 1, instead of 0 to 100)\n",
    "summary_stats_rt['freezing_norm_rt'] = summary_stats_rt['freezing_norm_rt'].agg(lambda x: round(x/100, 2))"
   ]
  },
  {
   "cell_type": "code",
   "execution_count": 65,
   "metadata": {},
   "outputs": [],
   "source": [
    "summary_stats_rt.sort_values(by=['animal_id', 'cs_id'], inplace=True)"
   ]
  },
  {
   "cell_type": "code",
   "execution_count": 66,
   "metadata": {},
   "outputs": [
    {
     "data": {
      "text/html": [
       "<div>\n",
       "<style scoped>\n",
       "    .dataframe tbody tr th:only-of-type {\n",
       "        vertical-align: middle;\n",
       "    }\n",
       "\n",
       "    .dataframe tbody tr th {\n",
       "        vertical-align: top;\n",
       "    }\n",
       "\n",
       "    .dataframe thead th {\n",
       "        text-align: right;\n",
       "    }\n",
       "</style>\n",
       "<table border=\"1\" class=\"dataframe\">\n",
       "  <thead>\n",
       "    <tr style=\"text-align: right;\">\n",
       "      <th></th>\n",
       "      <th>animal_id</th>\n",
       "      <th>freezing_norm_rt</th>\n",
       "    </tr>\n",
       "  </thead>\n",
       "  <tbody>\n",
       "    <tr>\n",
       "      <th>count</th>\n",
       "      <td>75.000000</td>\n",
       "      <td>75.000000</td>\n",
       "    </tr>\n",
       "    <tr>\n",
       "      <th>mean</th>\n",
       "      <td>286593.000000</td>\n",
       "      <td>0.629600</td>\n",
       "    </tr>\n",
       "    <tr>\n",
       "      <th>std</th>\n",
       "      <td>4.349588</td>\n",
       "      <td>0.330726</td>\n",
       "    </tr>\n",
       "    <tr>\n",
       "      <th>min</th>\n",
       "      <td>286586.000000</td>\n",
       "      <td>0.000000</td>\n",
       "    </tr>\n",
       "    <tr>\n",
       "      <th>25%</th>\n",
       "      <td>286589.000000</td>\n",
       "      <td>0.360000</td>\n",
       "    </tr>\n",
       "    <tr>\n",
       "      <th>50%</th>\n",
       "      <td>286593.000000</td>\n",
       "      <td>0.760000</td>\n",
       "    </tr>\n",
       "    <tr>\n",
       "      <th>75%</th>\n",
       "      <td>286597.000000</td>\n",
       "      <td>0.920000</td>\n",
       "    </tr>\n",
       "    <tr>\n",
       "      <th>max</th>\n",
       "      <td>286600.000000</td>\n",
       "      <td>1.000000</td>\n",
       "    </tr>\n",
       "  </tbody>\n",
       "</table>\n",
       "</div>"
      ],
      "text/plain": [
       "           animal_id  freezing_norm_rt\n",
       "count      75.000000         75.000000\n",
       "mean   286593.000000          0.629600\n",
       "std         4.349588          0.330726\n",
       "min    286586.000000          0.000000\n",
       "25%    286589.000000          0.360000\n",
       "50%    286593.000000          0.760000\n",
       "75%    286597.000000          0.920000\n",
       "max    286600.000000          1.000000"
      ]
     },
     "execution_count": 66,
     "metadata": {},
     "output_type": "execute_result"
    }
   ],
   "source": [
    "summary_stats_rt.describe()"
   ]
  },
  {
   "cell_type": "markdown",
   "metadata": {},
   "source": [
    "### 2.3 Prepare data from eztrack to analyse"
   ]
  },
  {
   "cell_type": "code",
   "execution_count": 67,
   "metadata": {},
   "outputs": [
    {
     "data": {
      "text/html": [
       "<div>\n",
       "<style scoped>\n",
       "    .dataframe tbody tr th:only-of-type {\n",
       "        vertical-align: middle;\n",
       "    }\n",
       "\n",
       "    .dataframe tbody tr th {\n",
       "        vertical-align: top;\n",
       "    }\n",
       "\n",
       "    .dataframe thead th {\n",
       "        text-align: right;\n",
       "    }\n",
       "</style>\n",
       "<table border=\"1\" class=\"dataframe\">\n",
       "  <thead>\n",
       "    <tr style=\"text-align: right;\">\n",
       "      <th></th>\n",
       "      <th>Animal_ID</th>\n",
       "      <th>Exp</th>\n",
       "      <th>Sex</th>\n",
       "      <th>Group</th>\n",
       "      <th>Session</th>\n",
       "      <th>CS_01</th>\n",
       "      <th>CS_02</th>\n",
       "      <th>CS_03</th>\n",
       "      <th>CS_04</th>\n",
       "      <th>CS_05</th>\n",
       "    </tr>\n",
       "  </thead>\n",
       "  <tbody>\n",
       "    <tr>\n",
       "      <th>0</th>\n",
       "      <td>286586</td>\n",
       "      <td>4</td>\n",
       "      <td>M</td>\n",
       "      <td>group_02</td>\n",
       "      <td>TES01</td>\n",
       "      <td>65.31</td>\n",
       "      <td>54.44</td>\n",
       "      <td>15.80</td>\n",
       "      <td>3.46</td>\n",
       "      <td>22.47</td>\n",
       "    </tr>\n",
       "    <tr>\n",
       "      <th>0</th>\n",
       "      <td>286587</td>\n",
       "      <td>4</td>\n",
       "      <td>M</td>\n",
       "      <td>group_01</td>\n",
       "      <td>TES01</td>\n",
       "      <td>60.22</td>\n",
       "      <td>51.67</td>\n",
       "      <td>40.67</td>\n",
       "      <td>78.22</td>\n",
       "      <td>68.89</td>\n",
       "    </tr>\n",
       "    <tr>\n",
       "      <th>0</th>\n",
       "      <td>286588</td>\n",
       "      <td>4</td>\n",
       "      <td>M</td>\n",
       "      <td>group_02</td>\n",
       "      <td>TES01</td>\n",
       "      <td>86.33</td>\n",
       "      <td>91.11</td>\n",
       "      <td>95.56</td>\n",
       "      <td>87.11</td>\n",
       "      <td>88.78</td>\n",
       "    </tr>\n",
       "    <tr>\n",
       "      <th>0</th>\n",
       "      <td>286589</td>\n",
       "      <td>4</td>\n",
       "      <td>M</td>\n",
       "      <td>group_02</td>\n",
       "      <td>TES01</td>\n",
       "      <td>0.00</td>\n",
       "      <td>14.53</td>\n",
       "      <td>23.07</td>\n",
       "      <td>30.53</td>\n",
       "      <td>47.60</td>\n",
       "    </tr>\n",
       "    <tr>\n",
       "      <th>0</th>\n",
       "      <td>286590</td>\n",
       "      <td>4</td>\n",
       "      <td>M</td>\n",
       "      <td>group_02</td>\n",
       "      <td>TES01</td>\n",
       "      <td>0.00</td>\n",
       "      <td>5.07</td>\n",
       "      <td>37.20</td>\n",
       "      <td>5.60</td>\n",
       "      <td>7.20</td>\n",
       "    </tr>\n",
       "  </tbody>\n",
       "</table>\n",
       "</div>"
      ],
      "text/plain": [
       "   Animal_ID  Exp Sex     Group Session  CS_01  CS_02  CS_03  CS_04  CS_05\n",
       "0     286586    4   M  group_02   TES01  65.31  54.44  15.80   3.46  22.47\n",
       "0     286587    4   M  group_01   TES01  60.22  51.67  40.67  78.22  68.89\n",
       "0     286588    4   M  group_02   TES01  86.33  91.11  95.56  87.11  88.78\n",
       "0     286589    4   M  group_02   TES01   0.00  14.53  23.07  30.53  47.60\n",
       "0     286590    4   M  group_02   TES01   0.00   5.07  37.20   5.60   7.20"
      ]
     },
     "execution_count": 67,
     "metadata": {},
     "output_type": "execute_result"
    }
   ],
   "source": [
    "dir_path_ez = r'D:\\GoogleDrive\\work\\postdoc_nyu\\scientific_projects\\individual_differences\\data\\external\\EZ\\EXP004'\n",
    "file_path_ez = r'JC_EXP004_20200110_TES01_R_SummaryStats_EZ.xls'\n",
    "\n",
    "summary_stats_ez = pd.read_excel(\n",
    "    os.path.join(dir_path_ez, file_path_ez),\n",
    "    index_col=0,\n",
    ")\n",
    "\n",
    "summary_stats_ez.head()"
   ]
  },
  {
   "cell_type": "code",
   "execution_count": 68,
   "metadata": {},
   "outputs": [],
   "source": [
    "# Drop Unnecessary columns\n",
    "summary_stats_ez.drop(columns=['Exp', 'Sex', 'Group', 'Session'], inplace=True)"
   ]
  },
  {
   "cell_type": "code",
   "execution_count": 69,
   "metadata": {},
   "outputs": [],
   "source": [
    "# Lowercase title for columns\n",
    "summary_stats_ez.columns = summary_stats_ez.columns.str.lower()"
   ]
  },
  {
   "cell_type": "code",
   "execution_count": 70,
   "metadata": {},
   "outputs": [],
   "source": [
    "summary_stats_ez['cs_epoch'] = 'peri_cs'"
   ]
  },
  {
   "cell_type": "code",
   "execution_count": 71,
   "metadata": {},
   "outputs": [],
   "source": [
    "# Transform the table into the wide format\n",
    "summary_stats_ez = summary_stats_ez.melt(\n",
    "    id_vars=['animal_id', 'cs_epoch'],\n",
    "    value_vars=[f'cs_0{n}' for n in range(1, 6)],\n",
    "    var_name='cs_id',\n",
    "    value_name='freezing_norm_ez',\n",
    ")"
   ]
  },
  {
   "cell_type": "code",
   "execution_count": 72,
   "metadata": {},
   "outputs": [],
   "source": [
    "# Correct normalization (0 to 1, instead of 0 to 100)\n",
    "summary_stats_ez['freezing_norm_ez'] = summary_stats_ez['freezing_norm_ez'].agg(lambda x: round(x/100, 2))"
   ]
  },
  {
   "cell_type": "code",
   "execution_count": 73,
   "metadata": {},
   "outputs": [],
   "source": [
    "summary_stats_ez.sort_values(by=['animal_id', 'cs_id'], inplace=True)"
   ]
  },
  {
   "cell_type": "markdown",
   "metadata": {},
   "source": [
    "### 2.4) Merge all dataframes"
   ]
  },
  {
   "cell_type": "code",
   "execution_count": 74,
   "metadata": {},
   "outputs": [
    {
     "name": "stdout",
     "output_type": "stream",
     "text": [
      "shape of the dataframes (75, 4), (75, 4), (75, 4)\n"
     ]
    }
   ],
   "source": [
    "print(f'shape of the dataframes {summary_stats_dlc.shape}, {summary_stats_rt.shape}, {summary_stats_ez.shape}')"
   ]
  },
  {
   "cell_type": "code",
   "execution_count": 75,
   "metadata": {},
   "outputs": [],
   "source": [
    "main = pd.concat(\n",
    "    [summary_stats_dlc.reset_index(drop=True),\n",
    "     summary_stats_ez.reset_index(drop=True),\n",
    "     summary_stats_rt.reset_index(drop=True),\n",
    "    ],\n",
    "    axis=1,\n",
    ")"
   ]
  },
  {
   "cell_type": "code",
   "execution_count": 76,
   "metadata": {},
   "outputs": [
    {
     "data": {
      "text/html": [
       "<div>\n",
       "<style scoped>\n",
       "    .dataframe tbody tr th:only-of-type {\n",
       "        vertical-align: middle;\n",
       "    }\n",
       "\n",
       "    .dataframe tbody tr th {\n",
       "        vertical-align: top;\n",
       "    }\n",
       "\n",
       "    .dataframe thead th {\n",
       "        text-align: right;\n",
       "    }\n",
       "</style>\n",
       "<table border=\"1\" class=\"dataframe\">\n",
       "  <thead>\n",
       "    <tr style=\"text-align: right;\">\n",
       "      <th></th>\n",
       "      <th>animal_id</th>\n",
       "      <th>cs_id</th>\n",
       "      <th>cs_epoch</th>\n",
       "      <th>freezing_norm_dlc</th>\n",
       "      <th>freezing_norm_ez</th>\n",
       "      <th>freezing_norm_rt</th>\n",
       "    </tr>\n",
       "  </thead>\n",
       "  <tbody>\n",
       "    <tr>\n",
       "      <th>0</th>\n",
       "      <td>286586</td>\n",
       "      <td>cs_01</td>\n",
       "      <td>peri_cs</td>\n",
       "      <td>0.80</td>\n",
       "      <td>0.65</td>\n",
       "      <td>0.56</td>\n",
       "    </tr>\n",
       "    <tr>\n",
       "      <th>1</th>\n",
       "      <td>286586</td>\n",
       "      <td>cs_02</td>\n",
       "      <td>peri_cs</td>\n",
       "      <td>0.65</td>\n",
       "      <td>0.54</td>\n",
       "      <td>0.50</td>\n",
       "    </tr>\n",
       "    <tr>\n",
       "      <th>2</th>\n",
       "      <td>286586</td>\n",
       "      <td>cs_03</td>\n",
       "      <td>peri_cs</td>\n",
       "      <td>0.34</td>\n",
       "      <td>0.16</td>\n",
       "      <td>0.19</td>\n",
       "    </tr>\n",
       "    <tr>\n",
       "      <th>3</th>\n",
       "      <td>286586</td>\n",
       "      <td>cs_04</td>\n",
       "      <td>peri_cs</td>\n",
       "      <td>0.08</td>\n",
       "      <td>0.03</td>\n",
       "      <td>0.02</td>\n",
       "    </tr>\n",
       "    <tr>\n",
       "      <th>4</th>\n",
       "      <td>286586</td>\n",
       "      <td>cs_05</td>\n",
       "      <td>peri_cs</td>\n",
       "      <td>0.34</td>\n",
       "      <td>0.22</td>\n",
       "      <td>0.14</td>\n",
       "    </tr>\n",
       "  </tbody>\n",
       "</table>\n",
       "</div>"
      ],
      "text/plain": [
       "   animal_id  cs_id cs_epoch  freezing_norm_dlc  freezing_norm_ez  \\\n",
       "0     286586  cs_01  peri_cs               0.80              0.65   \n",
       "1     286586  cs_02  peri_cs               0.65              0.54   \n",
       "2     286586  cs_03  peri_cs               0.34              0.16   \n",
       "3     286586  cs_04  peri_cs               0.08              0.03   \n",
       "4     286586  cs_05  peri_cs               0.34              0.22   \n",
       "\n",
       "   freezing_norm_rt  \n",
       "0              0.56  \n",
       "1              0.50  \n",
       "2              0.19  \n",
       "3              0.02  \n",
       "4              0.14  "
      ]
     },
     "execution_count": 76,
     "metadata": {},
     "output_type": "execute_result"
    }
   ],
   "source": [
    "main = main.loc[:, ~main.columns.duplicated()]\n",
    "main.head()"
   ]
  },
  {
   "cell_type": "code",
   "execution_count": 77,
   "metadata": {},
   "outputs": [],
   "source": [
    "# Data read for analysis\n",
    "summary_stats_main = main.copy()"
   ]
  },
  {
   "cell_type": "markdown",
   "metadata": {},
   "source": [
    "# 3) Data Visualization and Analysis"
   ]
  },
  {
   "cell_type": "markdown",
   "metadata": {},
   "source": [
    "### 3.1) Correlations and Regressions"
   ]
  },
  {
   "cell_type": "code",
   "execution_count": 78,
   "metadata": {},
   "outputs": [],
   "source": [
    "sns.set(\n",
    "    context='talk',\n",
    "    style='darkgrid',\n",
    "    palette='colorblind',\n",
    "    font='sans-serif',\n",
    "    font_scale=1,\n",
    "    color_codes=True,\n",
    "    rc=None,\n",
    ")"
   ]
  },
  {
   "cell_type": "code",
   "execution_count": 79,
   "metadata": {},
   "outputs": [
    {
     "data": {
      "text/plain": [
       "Text(0.5, 1.05, 'Linear Regression Plot: \\n Left: Rodrigo vs EZ-Track | Right: Rodrigo vs DeepLabCut')"
      ]
     },
     "execution_count": 79,
     "metadata": {},
     "output_type": "execute_result"
    },
    {
     "data": {
      "image/png": "[encoded data removed]",
      "text/plain": [
       "<Figure size 864x360 with 2 Axes>"
      ]
     },
     "metadata": {},
     "output_type": "display_data"
    }
   ],
   "source": [
    "fig, axes = plt.subplots(1, 2, figsize=(12, 5))\n",
    "sns.regplot(\n",
    "    x='freezing_norm_rt',\n",
    "    y='freezing_norm_ez',\n",
    "    data=summary_stats_main,\n",
    "    ax=axes[0]\n",
    ")\n",
    "\n",
    "sns.regplot(\n",
    "    x='freezing_norm_rt',\n",
    "    y='freezing_norm_dlc',\n",
    "    data=summary_stats_main,\n",
    "    ax=axes[1]\n",
    ")\n",
    "for n in range(2):\n",
    "    axes[n].set(ylim=(0, 1), xlim=(0.,1))\n",
    "fig.suptitle('Linear Regression Plot: \\n Left: Rodrigo vs EZ-Track | Right: Rodrigo vs DeepLabCut', y=1.05)\n"
   ]
  },
  {
   "cell_type": "code",
   "execution_count": 80,
   "metadata": {},
   "outputs": [
    {
     "data": {
      "text/plain": [
       "Text(0.5, 1.05, 'Residual Plot for Linear Regression Fit: \\n Left: Rodrigo vs EZ-Track | Right: Rodrigo vs DeepLabCut')"
      ]
     },
     "execution_count": 80,
     "metadata": {},
     "output_type": "execute_result"
    },
    {
     "data": {
      "image/png": "[encoded data removed]",
      "text/plain": [
       "<Figure size 1080x360 with 2 Axes>"
      ]
     },
     "metadata": {},
     "output_type": "display_data"
    }
   ],
   "source": [
    "fig, axes = plt.subplots(1, 2, figsize=(15, 5))\n",
    "sns.residplot(\n",
    "    x='freezing_norm_rt',\n",
    "    y='freezing_norm_ez',\n",
    "    data=summary_stats_main,\n",
    "    ax=axes[0]\n",
    ")\n",
    "\n",
    "sns.residplot(\n",
    "    x='freezing_norm_rt',\n",
    "    y='freezing_norm_dlc',\n",
    "    data=summary_stats_main,\n",
    "    ax=axes[1]\n",
    ")\n",
    "\n",
    "fig.suptitle('Residual Plot for Linear Regression Fit: \\n Left: Rodrigo vs EZ-Track | Right: Rodrigo vs DeepLabCut', y=1.05)\n"
   ]
  },
  {
   "cell_type": "markdown",
   "metadata": {},
   "source": [
    "### 3.2) Pearson's Correlation"
   ]
  },
  {
   "cell_type": "code",
   "execution_count": 81,
   "metadata": {},
   "outputs": [
    {
     "name": "stdout",
     "output_type": "stream",
     "text": [
      "Correlation coefficient between Deeplabcut vs Rodrigo\n",
      "Pearson's correlation coefficient is 0.95 with an associated p value of 1.0421831979321213e-37\n"
     ]
    }
   ],
   "source": [
    "r, p_value = stats.pearsonr(summary_stats_main['freezing_norm_dlc'],\n",
    "               summary_stats_main['freezing_norm_rt'],)\n",
    "\n",
    "print('Correlation coefficient between Deeplabcut vs Rodrigo')\n",
    "print(f\"Pearson's correlation coefficient is {round(r, 2)} with an associated p value of {p_value}\")"
   ]
  },
  {
   "cell_type": "code",
   "execution_count": 82,
   "metadata": {},
   "outputs": [
    {
     "name": "stdout",
     "output_type": "stream",
     "text": [
      "Correlation coefficient between Deeplabcut vs EzTrack (from Cai Lab)\n",
      "Pearson's correlation coefficient is 0.97 with an associated p value of 5.804168208342703e-49\n"
     ]
    }
   ],
   "source": [
    "r, p_value = stats.pearsonr(summary_stats_main['freezing_norm_dlc'],\n",
    "               summary_stats_main['freezing_norm_ez'],)\n",
    "\n",
    "print('Correlation coefficient between Deeplabcut vs EzTrack (from Cai Lab)')\n",
    "print(f\"Pearson's correlation coefficient is {round(r, 2)} with an associated p value of {p_value}\")"
   ]
  },
  {
   "cell_type": "markdown",
   "metadata": {},
   "source": [
    "### 3.3) Linear Regressions"
   ]
  },
  {
   "cell_type": "code",
   "execution_count": 83,
   "metadata": {},
   "outputs": [],
   "source": [
    "from sklearn.linear_model import LinearRegression"
   ]
  },
  {
   "cell_type": "code",
   "execution_count": 84,
   "metadata": {},
   "outputs": [],
   "source": [
    "# Data to use in the regressions\n",
    "freezing_rt = summary_stats_main[['freezing_norm_rt']]\n",
    "freezing_dlc = summary_stats_main['freezing_norm_dlc']\n",
    "freezing_ez = summary_stats_main[['freezing_norm_ez']]"
   ]
  },
  {
   "cell_type": "markdown",
   "metadata": {},
   "source": [
    "#### 3.3.1) Rodrigo vs Deeplabcut"
   ]
  },
  {
   "cell_type": "code",
   "execution_count": 85,
   "metadata": {},
   "outputs": [
    {
     "data": {
      "text/plain": [
       "LinearRegression(copy_X=True, fit_intercept=True, n_jobs=None, normalize=False)"
      ]
     },
     "execution_count": 85,
     "metadata": {},
     "output_type": "execute_result"
    }
   ],
   "source": [
    "lm = LinearRegression()\n",
    "lm.fit(freezing_rt, freezing_dlc)"
   ]
  },
  {
   "cell_type": "code",
   "execution_count": 86,
   "metadata": {},
   "outputs": [
    {
     "name": "stdout",
     "output_type": "stream",
     "text": [
      "Rodrigo vs Deeplabcut\n",
      "f(x) = [0.81066082]x + 0.18827461557950276\n",
      "Coefficient of Determination : 0.9\n"
     ]
    }
   ],
   "source": [
    "print('Rodrigo vs Deeplabcut')\n",
    "print(f'f(x) = {lm.coef_}x + {lm.intercept_}')\n",
    "print(f'Coefficient of Determination : {round(lm.score(freezing_rt, freezing_dlc), 2)}')"
   ]
  },
  {
   "cell_type": "markdown",
   "metadata": {},
   "source": [
    "#### 3.3.1) Rodrigo vs EZtrack"
   ]
  },
  {
   "cell_type": "code",
   "execution_count": 87,
   "metadata": {},
   "outputs": [
    {
     "data": {
      "text/plain": [
       "LinearRegression(copy_X=True, fit_intercept=True, n_jobs=None, normalize=False)"
      ]
     },
     "execution_count": 87,
     "metadata": {},
     "output_type": "execute_result"
    }
   ],
   "source": [
    "lm = LinearRegression()\n",
    "lm.fit(freezing_rt, freezing_ez)"
   ]
  },
  {
   "cell_type": "code",
   "execution_count": 88,
   "metadata": {},
   "outputs": [
    {
     "name": "stdout",
     "output_type": "stream",
     "text": [
      "Rodrigo vs EZ Track\n",
      "f(x) = [[0.87109159]]x + [0.0946274]\n",
      "Coefficient of Determination : 0.89\n"
     ]
    }
   ],
   "source": [
    "print('Rodrigo vs EZ Track')\n",
    "print(f'f(x) = {(lm.coef_)}x + {lm.intercept_}')\n",
    "print(f'Coefficient of Determination : {round(lm.score(freezing_rt, freezing_ez), 2)}')"
   ]
  },
  {
   "cell_type": "markdown",
   "metadata": {},
   "source": [
    "# 4) Descriptive Statistics"
   ]
  },
  {
   "cell_type": "code",
   "execution_count": 89,
   "metadata": {},
   "outputs": [
    {
     "data": {
      "text/html": [
       "<div>\n",
       "<style scoped>\n",
       "    .dataframe tbody tr th:only-of-type {\n",
       "        vertical-align: middle;\n",
       "    }\n",
       "\n",
       "    .dataframe tbody tr th {\n",
       "        vertical-align: top;\n",
       "    }\n",
       "\n",
       "    .dataframe thead th {\n",
       "        text-align: right;\n",
       "    }\n",
       "</style>\n",
       "<table border=\"1\" class=\"dataframe\">\n",
       "  <thead>\n",
       "    <tr style=\"text-align: right;\">\n",
       "      <th></th>\n",
       "      <th>animal_id</th>\n",
       "      <th>cs_id</th>\n",
       "      <th>cs_epoch</th>\n",
       "      <th>scorer</th>\n",
       "      <th>freezing_norm</th>\n",
       "    </tr>\n",
       "  </thead>\n",
       "  <tbody>\n",
       "    <tr>\n",
       "      <th>0</th>\n",
       "      <td>286586</td>\n",
       "      <td>cs_01</td>\n",
       "      <td>peri_cs</td>\n",
       "      <td>dlc</td>\n",
       "      <td>0.80</td>\n",
       "    </tr>\n",
       "    <tr>\n",
       "      <th>1</th>\n",
       "      <td>286586</td>\n",
       "      <td>cs_02</td>\n",
       "      <td>peri_cs</td>\n",
       "      <td>dlc</td>\n",
       "      <td>0.65</td>\n",
       "    </tr>\n",
       "    <tr>\n",
       "      <th>2</th>\n",
       "      <td>286586</td>\n",
       "      <td>cs_03</td>\n",
       "      <td>peri_cs</td>\n",
       "      <td>dlc</td>\n",
       "      <td>0.34</td>\n",
       "    </tr>\n",
       "    <tr>\n",
       "      <th>3</th>\n",
       "      <td>286586</td>\n",
       "      <td>cs_04</td>\n",
       "      <td>peri_cs</td>\n",
       "      <td>dlc</td>\n",
       "      <td>0.08</td>\n",
       "    </tr>\n",
       "    <tr>\n",
       "      <th>4</th>\n",
       "      <td>286586</td>\n",
       "      <td>cs_05</td>\n",
       "      <td>peri_cs</td>\n",
       "      <td>dlc</td>\n",
       "      <td>0.34</td>\n",
       "    </tr>\n",
       "  </tbody>\n",
       "</table>\n",
       "</div>"
      ],
      "text/plain": [
       "   animal_id  cs_id cs_epoch scorer  freezing_norm\n",
       "0     286586  cs_01  peri_cs    dlc           0.80\n",
       "1     286586  cs_02  peri_cs    dlc           0.65\n",
       "2     286586  cs_03  peri_cs    dlc           0.34\n",
       "3     286586  cs_04  peri_cs    dlc           0.08\n",
       "4     286586  cs_05  peri_cs    dlc           0.34"
      ]
     },
     "execution_count": 89,
     "metadata": {},
     "output_type": "execute_result"
    }
   ],
   "source": [
    "# Transform data into the long (ie \"tidy\" format)\n",
    "summary_stats_main_long = summary_stats_main.melt(\n",
    "    id_vars=['animal_id', 'cs_id', 'cs_epoch'],\n",
    "    value_vars=['freezing_norm_dlc', 'freezing_norm_ez', 'freezing_norm_rt'],\n",
    "    var_name='scorer',\n",
    "    value_name='freezing_norm',\n",
    ")\n",
    "\n",
    "# Replace the name of scorers with shorter versions\n",
    "summary_stats_main_long = summary_stats_main_long.replace(\n",
    "    'freezing_norm_dlc', 'dlc').replace('freezing_norm_ez', 'ez').replace('freezing_norm_rt', 'rt')\n",
    "\n",
    "summary_stats_main_long.head()"
   ]
  },
  {
   "cell_type": "code",
   "execution_count": 90,
   "metadata": {},
   "outputs": [
    {
     "data": {
      "text/html": [
       "<div>\n",
       "<style scoped>\n",
       "    .dataframe tbody tr th:only-of-type {\n",
       "        vertical-align: middle;\n",
       "    }\n",
       "\n",
       "    .dataframe tbody tr th {\n",
       "        vertical-align: top;\n",
       "    }\n",
       "\n",
       "    .dataframe thead th {\n",
       "        text-align: right;\n",
       "    }\n",
       "</style>\n",
       "<table border=\"1\" class=\"dataframe\">\n",
       "  <thead>\n",
       "    <tr style=\"text-align: right;\">\n",
       "      <th></th>\n",
       "      <th>animal_id</th>\n",
       "      <th>cs_id</th>\n",
       "      <th>cs_epoch</th>\n",
       "      <th>scorer</th>\n",
       "      <th>freezing_norm</th>\n",
       "    </tr>\n",
       "  </thead>\n",
       "  <tbody>\n",
       "    <tr>\n",
       "      <th>0</th>\n",
       "      <td>286586</td>\n",
       "      <td>cs_01</td>\n",
       "      <td>peri_cs</td>\n",
       "      <td>dlc</td>\n",
       "      <td>0.80</td>\n",
       "    </tr>\n",
       "    <tr>\n",
       "      <th>1</th>\n",
       "      <td>286586</td>\n",
       "      <td>cs_02</td>\n",
       "      <td>peri_cs</td>\n",
       "      <td>dlc</td>\n",
       "      <td>0.65</td>\n",
       "    </tr>\n",
       "    <tr>\n",
       "      <th>2</th>\n",
       "      <td>286586</td>\n",
       "      <td>cs_03</td>\n",
       "      <td>peri_cs</td>\n",
       "      <td>dlc</td>\n",
       "      <td>0.34</td>\n",
       "    </tr>\n",
       "    <tr>\n",
       "      <th>3</th>\n",
       "      <td>286586</td>\n",
       "      <td>cs_04</td>\n",
       "      <td>peri_cs</td>\n",
       "      <td>dlc</td>\n",
       "      <td>0.08</td>\n",
       "    </tr>\n",
       "    <tr>\n",
       "      <th>4</th>\n",
       "      <td>286586</td>\n",
       "      <td>cs_05</td>\n",
       "      <td>peri_cs</td>\n",
       "      <td>dlc</td>\n",
       "      <td>0.34</td>\n",
       "    </tr>\n",
       "  </tbody>\n",
       "</table>\n",
       "</div>"
      ],
      "text/plain": [
       "   animal_id  cs_id cs_epoch scorer  freezing_norm\n",
       "0     286586  cs_01  peri_cs    dlc           0.80\n",
       "1     286586  cs_02  peri_cs    dlc           0.65\n",
       "2     286586  cs_03  peri_cs    dlc           0.34\n",
       "3     286586  cs_04  peri_cs    dlc           0.08\n",
       "4     286586  cs_05  peri_cs    dlc           0.34"
      ]
     },
     "execution_count": 90,
     "metadata": {},
     "output_type": "execute_result"
    }
   ],
   "source": [
    "summary_stats_main_long.head()"
   ]
  },
  {
   "cell_type": "markdown",
   "metadata": {},
   "source": [
    "### 4.2 Distributions of freezing accross scorers"
   ]
  },
  {
   "cell_type": "code",
   "execution_count": 91,
   "metadata": {},
   "outputs": [
    {
     "data": {
      "text/plain": [
       "<seaborn.axisgrid.FacetGrid at 0x2ae77d651c8>"
      ]
     },
     "execution_count": 91,
     "metadata": {},
     "output_type": "execute_result"
    },
    {
     "data": {
      "image/png": "[encoded data removed]",
      "text/plain": [
       "<Figure size 1800x360 with 5 Axes>"
      ]
     },
     "metadata": {},
     "output_type": "display_data"
    }
   ],
   "source": [
    "sns.catplot(\n",
    "    x='scorer',\n",
    "    y='freezing_norm',\n",
    "    data=summary_stats_main_long,\n",
    "    hue='cs_id',\n",
    "    col='cs_id',\n",
    "    kind='box'\n",
    ")"
   ]
  },
  {
   "cell_type": "markdown",
   "metadata": {},
   "source": [
    "### 4.3) What about the general distribution?"
   ]
  },
  {
   "cell_type": "code",
   "execution_count": 92,
   "metadata": {},
   "outputs": [
    {
     "data": {
      "image/png": "[encoded data removed]",
      "text/plain": [
       "<Figure size 1080x360 with 3 Axes>"
      ]
     },
     "metadata": {},
     "output_type": "display_data"
    }
   ],
   "source": [
    "fig, axes = plt.subplots(1, 3, figsize=(15, 5), sharey=True)\n",
    "\n",
    "sns.distplot(\n",
    "    summary_stats_main_long[summary_stats_main_long['scorer']=='dlc'].freezing_norm,\n",
    "    ax=axes[0], \n",
    "    bins= np.linspace(0, 1, 11),\n",
    "    kde=False\n",
    ")\n",
    "sns.distplot(\n",
    "    summary_stats_main_long[summary_stats_main_long['scorer']=='rt'].freezing_norm,\n",
    "    ax=axes[1],\n",
    "    bins= np.linspace(0, 1, 11),\n",
    "    color='orange',\n",
    "    kde=False\n",
    ")\n",
    "sns.distplot(\n",
    "    summary_stats_main_long[summary_stats_main_long['scorer']=='ez'].freezing_norm,\n",
    "    ax=axes[2],\n",
    "    bins= np.linspace(0, 1, 11),\n",
    "    color='grey',\n",
    "    kde=False\n",
    ")\n",
    "for index, scorer in enumerate(['dlc', 'rt', 'ez']):\n",
    "    axes[index].set(title=f'Freezing scored by: {scorer}')"
   ]
  },
  {
   "cell_type": "markdown",
   "metadata": {},
   "source": [
    "### 4.4) Magnitude of freezing accress scorers, accross cs"
   ]
  },
  {
   "cell_type": "code",
   "execution_count": 93,
   "metadata": {},
   "outputs": [
    {
     "data": {
      "text/plain": [
       "(0, 1)"
      ]
     },
     "execution_count": 93,
     "metadata": {},
     "output_type": "execute_result"
    },
    {
     "data": {
      "image/png": "[encoded data removed]",
      "text/plain": [
       "<Figure size 1903.53x360 with 5 Axes>"
      ]
     },
     "metadata": {},
     "output_type": "display_data"
    }
   ],
   "source": [
    "sns.relplot(\n",
    "    x='scorer',\n",
    "    y='freezing_norm',\n",
    "    data=summary_stats_main_long,\n",
    "    hue='cs_id',\n",
    "    col='cs_id',\n",
    "    kind='line',\n",
    ")\n",
    "plt.ylim(0, 1)"
   ]
  },
  {
   "cell_type": "code",
   "execution_count": 94,
   "metadata": {},
   "outputs": [
    {
     "data": {
      "text/plain": [
       "(0, 1)"
      ]
     },
     "execution_count": 94,
     "metadata": {},
     "output_type": "execute_result"
    },
    {
     "data": {
      "image/png": "[encoded data removed]",
      "text/plain": [
       "<Figure size 463.525x360 with 1 Axes>"
      ]
     },
     "metadata": {},
     "output_type": "display_data"
    }
   ],
   "source": [
    "sns.catplot(\n",
    "    x='scorer',\n",
    "    y='freezing_norm',\n",
    "    data=summary_stats_main_long,\n",
    "    hue='cs_id',\n",
    "    estimator=np.mean,\n",
    "    kind='bar',\n",
    ")\n",
    "plt.ylim(0, 1)"
   ]
  },
  {
   "cell_type": "markdown",
   "metadata": {},
   "source": [
    "### 4.5) Overall freezing"
   ]
  },
  {
   "cell_type": "code",
   "execution_count": 95,
   "metadata": {},
   "outputs": [
    {
     "data": {
      "text/html": [
       "<div>\n",
       "<style scoped>\n",
       "    .dataframe tbody tr th:only-of-type {\n",
       "        vertical-align: middle;\n",
       "    }\n",
       "\n",
       "    .dataframe tbody tr th {\n",
       "        vertical-align: top;\n",
       "    }\n",
       "\n",
       "    .dataframe thead th {\n",
       "        text-align: right;\n",
       "    }\n",
       "</style>\n",
       "<table border=\"1\" class=\"dataframe\">\n",
       "  <thead>\n",
       "    <tr style=\"text-align: right;\">\n",
       "      <th>scorer</th>\n",
       "      <th>dlc</th>\n",
       "      <th>ez</th>\n",
       "      <th>rt</th>\n",
       "    </tr>\n",
       "    <tr>\n",
       "      <th>animal_id</th>\n",
       "      <th></th>\n",
       "      <th></th>\n",
       "      <th></th>\n",
       "    </tr>\n",
       "  </thead>\n",
       "  <tbody>\n",
       "    <tr>\n",
       "      <th>286586</th>\n",
       "      <td>0.442</td>\n",
       "      <td>0.320</td>\n",
       "      <td>0.282</td>\n",
       "    </tr>\n",
       "    <tr>\n",
       "      <th>286587</th>\n",
       "      <td>0.660</td>\n",
       "      <td>0.600</td>\n",
       "      <td>0.454</td>\n",
       "    </tr>\n",
       "    <tr>\n",
       "      <th>286588</th>\n",
       "      <td>0.898</td>\n",
       "      <td>0.898</td>\n",
       "      <td>0.880</td>\n",
       "    </tr>\n",
       "    <tr>\n",
       "      <th>286589</th>\n",
       "      <td>0.352</td>\n",
       "      <td>0.234</td>\n",
       "      <td>0.206</td>\n",
       "    </tr>\n",
       "    <tr>\n",
       "      <th>286590</th>\n",
       "      <td>0.088</td>\n",
       "      <td>0.110</td>\n",
       "      <td>0.018</td>\n",
       "    </tr>\n",
       "  </tbody>\n",
       "</table>\n",
       "</div>"
      ],
      "text/plain": [
       "scorer       dlc     ez     rt\n",
       "animal_id                     \n",
       "286586     0.442  0.320  0.282\n",
       "286587     0.660  0.600  0.454\n",
       "286588     0.898  0.898  0.880\n",
       "286589     0.352  0.234  0.206\n",
       "286590     0.088  0.110  0.018"
      ]
     },
     "execution_count": 95,
     "metadata": {},
     "output_type": "execute_result"
    }
   ],
   "source": [
    "freezing = summary_stats_main_long.pivot_table(\n",
    "    values=['freezing_norm'],\n",
    "    index=['animal_id'],\n",
    "    columns=['cs_id', 'scorer'],\n",
    ")\n",
    "\n",
    "freezing = freezing.groupby(axis=1, level=2).mean()\n",
    "freezing.head()"
   ]
  },
  {
   "cell_type": "code",
   "execution_count": 96,
   "metadata": {},
   "outputs": [
    {
     "data": {
      "text/plain": [
       "[(0, 1),\n",
       " Text(0, 0.5, 'freezing_norm'),\n",
       " Text(0.5, 0, 'scorer'),\n",
       " Text(0.5, 1.0, 'freezing normalized')]"
      ]
     },
     "execution_count": 96,
     "metadata": {},
     "output_type": "execute_result"
    },
    {
     "data": {
      "image/png": "[encoded data removed]",
      "text/plain": [
       "<Figure size 216x360 with 1 Axes>"
      ]
     },
     "metadata": {},
     "output_type": "display_data"
    }
   ],
   "source": [
    "fig, ax = plt.subplots(figsize=(3, 5))\n",
    "ax.bar(\n",
    "    x=freezing.columns,\n",
    "    height=freezing.mean(), \n",
    "    yerr=freezing.sem()\n",
    ")\n",
    "\n",
    "ax.set(ylim=(0, 1), title='freezing normalized', ylabel='freezing_norm', xlabel='scorer')"
   ]
  },
  {
   "cell_type": "markdown",
   "metadata": {},
   "source": [
    "### 4.6) Are means significantly different?"
   ]
  },
  {
   "cell_type": "code",
   "execution_count": 97,
   "metadata": {},
   "outputs": [],
   "source": [
    "freezing.reset_index(inplace=True)"
   ]
  },
  {
   "cell_type": "code",
   "execution_count": 98,
   "metadata": {},
   "outputs": [],
   "source": [
    "# Preparing the data\n",
    "freezing_long = freezing.melt(\n",
    "    id_vars='animal_id',\n",
    "    value_vars=['dlc', 'ez', 'rt'],\n",
    "    var_name='scorer',\n",
    "    value_name='freezing_norm'\n",
    ")"
   ]
  },
  {
   "cell_type": "code",
   "execution_count": 99,
   "metadata": {},
   "outputs": [
    {
     "data": {
      "text/html": [
       "<div>\n",
       "<style scoped>\n",
       "    .dataframe tbody tr th:only-of-type {\n",
       "        vertical-align: middle;\n",
       "    }\n",
       "\n",
       "    .dataframe tbody tr th {\n",
       "        vertical-align: top;\n",
       "    }\n",
       "\n",
       "    .dataframe thead th {\n",
       "        text-align: right;\n",
       "    }\n",
       "</style>\n",
       "<table border=\"1\" class=\"dataframe\">\n",
       "  <thead>\n",
       "    <tr style=\"text-align: right;\">\n",
       "      <th></th>\n",
       "      <th>Source</th>\n",
       "      <th>ddof1</th>\n",
       "      <th>H</th>\n",
       "      <th>p-unc</th>\n",
       "    </tr>\n",
       "  </thead>\n",
       "  <tbody>\n",
       "    <tr>\n",
       "      <th>Kruskal</th>\n",
       "      <td>scorer</td>\n",
       "      <td>2</td>\n",
       "      <td>0.702941</td>\n",
       "      <td>0.703653</td>\n",
       "    </tr>\n",
       "  </tbody>\n",
       "</table>\n",
       "</div>"
      ],
      "text/plain": [
       "         Source  ddof1         H     p-unc\n",
       "Kruskal  scorer      2  0.702941  0.703653"
      ]
     },
     "execution_count": 99,
     "metadata": {},
     "output_type": "execute_result"
    }
   ],
   "source": [
    "pg.kruskal(\n",
    "    freezing_long,\n",
    "    dv='freezing_norm', \n",
    "    between='scorer',\n",
    "    detailed=True\n",
    ")"
   ]
  },
  {
   "cell_type": "code",
   "execution_count": 100,
   "metadata": {},
   "outputs": [
    {
     "data": {
      "text/plain": [
       "KruskalResult(statistic=0.7029408534844409, pvalue=0.7036526589557721)"
      ]
     },
     "execution_count": 100,
     "metadata": {},
     "output_type": "execute_result"
    }
   ],
   "source": [
    "stats.kruskal(freezing.rt, freezing.dlc, freezing.ez)"
   ]
  },
  {
   "cell_type": "code",
   "execution_count": null,
   "metadata": {},
   "outputs": [],
   "source": []
  }
 ],
 "metadata": {
  "kernelspec": {
   "display_name": "Python 3",
   "language": "python",
   "name": "python3"
  },
  "language_info": {
   "codemirror_mode": {
    "name": "ipython",
    "version": 3
   },
   "file_extension": ".py",
   "mimetype": "text/x-python",
   "name": "python",
   "nbconvert_exporter": "python",
   "pygments_lexer": "ipython3",
   "version": "3.7.6"
  }
 },
 "nbformat": 4,
 "nbformat_minor": 4
}
