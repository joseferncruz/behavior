{
 "cells": [
  {
   "cell_type": "markdown",
   "metadata": {},
   "source": [
    "# notebook n04: Validation of Freezing\n",
    "\n",
    "Jose Oliveira da Cruz, PhD  | LeDoux Lab  \n",
    "jose.cruz@nyu.edu  \n",
    "\n",
    "<img src=\"LedouxLab_logo.jpg\" style=\"width: 300.464px; height: 100px; margin: 0px;\">   \n"
   ]
  },
  {
   "cell_type": "markdown",
   "metadata": {},
   "source": [
    "This notebooks takes the .csv output from nb03 and computes some validation statistics for the freezing algorithm."
   ]
  },
  {
   "cell_type": "markdown",
   "metadata": {},
   "source": [
    "### Import dependencies"
   ]
  },
  {
   "cell_type": "code",
   "execution_count": null,
   "metadata": {},
   "outputs": [],
   "source": [
    "# Standart Library\n",
    "import sys\n",
    "import os\n",
    "\n",
    "# Data Analysis\n",
    "import numpy as np\n",
    "import pandas as pd\n",
    "\n",
    "# Data Visualization\n",
    "import matplotlib.pyplot as plt\n",
    "import seaborn as sns\n",
    "\n",
    "# Statistical Analysis\n",
    "import pingouin as pg\n",
    "from scipy import stats\n",
    "import sklearn\n",
    "\n",
    "# To Add my code to the \n",
    "sys.path.append(r'D:\\GoogleDrive\\work\\postdoc_nyu\\scientific_projects\\individual_differences\\src')"
   ]
  },
  {
   "cell_type": "markdown",
   "metadata": {},
   "source": [
    "<a id='step_1'><a/>\n",
    "# 1) Load the data: `_merged_summary_stats.csv`"
   ]
  },
  {
   "cell_type": "code",
   "execution_count": null,
   "metadata": {},
   "outputs": [],
   "source": [
    "#where is the file\n",
    "dir_path = r'D:\\GoogleDrive\\work\\postdoc_nyu\\scientific_projects\\individual_differences\\data\\processed\\EXP004\\individual_summary_stats'\n",
    "file_path = r'jc_exp004_20200110_tes01_r_merged_summary_stats.csv'\n",
    "\n",
    "summary_stats_dlc = pd.read_csv(os.path.join(dir_path, file_path), index_col=0)"
   ]
  },
  {
   "cell_type": "code",
   "execution_count": null,
   "metadata": {},
   "outputs": [],
   "source": [
    "summary_stats_dlc.head()"
   ]
  },
  {
   "cell_type": "markdown",
   "metadata": {},
   "source": [
    "# 2) Create a Validation DataSet"
   ]
  },
  {
   "cell_type": "markdown",
   "metadata": {},
   "source": [
    "\n",
    "### 2.1) Prepare data from dlc to analyse"
   ]
  },
  {
   "cell_type": "code",
   "execution_count": null,
   "metadata": {},
   "outputs": [],
   "source": [
    "# Subset by condition\n",
    "condition = summary_stats_dlc['cs_epoch']=='peri_cs'\n",
    "\n",
    "# Select only certain columns\n",
    "summary_stats_dlc = summary_stats_dlc[condition][['animal_id', 'cs_id', 'cs_epoch', 'freezing_norm']]"
   ]
  },
  {
   "cell_type": "code",
   "execution_count": null,
   "metadata": {},
   "outputs": [],
   "source": [
    "summary_stats_dlc.rename(columns={'freezing_norm': 'freezing_norm_dlc'}, inplace=True)"
   ]
  },
  {
   "cell_type": "code",
   "execution_count": null,
   "metadata": {},
   "outputs": [],
   "source": [
    "summary_stats_dlc.sort_values(by=['animal_id', 'cs_id'], inplace=True)"
   ]
  },
  {
   "cell_type": "code",
   "execution_count": null,
   "metadata": {},
   "outputs": [],
   "source": [
    "summary_stats_dlc"
   ]
  },
  {
   "cell_type": "markdown",
   "metadata": {},
   "source": [
    "### 2.2) Prepare data from rodrigo to analyse"
   ]
  },
  {
   "cell_type": "code",
   "execution_count": null,
   "metadata": {},
   "outputs": [],
   "source": [
    "#where is the file\n",
    "dir_path_rt = r'D:\\GoogleDrive\\work\\postdoc_nyu\\scientific_projects\\individual_differences\\data\\external\\RT\\EXP004'\n",
    "file_path_rt = r'RT_EXP004_norm_data_2nd_scoring.csv'\n",
    "\n",
    "summary_stats_rt = pd.read_csv(os.path.join(dir_path_rt, file_path_rt), index_col=0\n",
    "                              )\n",
    "summary_stats_rt = summary_stats_rt.drop(columns=['Group', 'Sex', 'Exp', 'Session'])"
   ]
  },
  {
   "cell_type": "code",
   "execution_count": null,
   "metadata": {},
   "outputs": [],
   "source": [
    "# put columns names in lowercase\n",
    "summary_stats_rt.columns = summary_stats_rt.columns.str.lower()\n",
    "# Add new columns with the cs_epoch\n",
    "summary_stats_rt['cs_epoch'] = 'peri_cs'"
   ]
  },
  {
   "cell_type": "code",
   "execution_count": null,
   "metadata": {},
   "outputs": [],
   "source": [
    "# Reorder the columns\n",
    "summary_stats_rt = summary_stats_rt[['animal_id', 'cs_epoch']+[f'cs_0{n}' for n in range(1, 6)]]"
   ]
  },
  {
   "cell_type": "code",
   "execution_count": null,
   "metadata": {},
   "outputs": [],
   "source": [
    "# Transform the table into the same format as the dlc\n",
    "summary_stats_rt = summary_stats_rt.melt(\n",
    "    id_vars=['animal_id', 'cs_epoch'],\n",
    "    value_vars=[f'cs_0{n}' for n in range(1, 6)],\n",
    "    value_name='freezing_norm_rt',\n",
    "    var_name='cs_id',\n",
    ")"
   ]
  },
  {
   "cell_type": "code",
   "execution_count": null,
   "metadata": {},
   "outputs": [],
   "source": [
    "# Correct normalization (0 to 1, instead of 0 to 100)\n",
    "summary_stats_rt['freezing_norm_rt'] = summary_stats_rt['freezing_norm_rt'].agg(lambda x: round(x/100, 2))"
   ]
  },
  {
   "cell_type": "code",
   "execution_count": null,
   "metadata": {},
   "outputs": [],
   "source": [
    "summary_stats_rt.sort_values(by=['animal_id', 'cs_id'], inplace=True)"
   ]
  },
  {
   "cell_type": "code",
   "execution_count": null,
   "metadata": {},
   "outputs": [],
   "source": [
    "summary_stats_rt.describe()"
   ]
  },
  {
   "cell_type": "markdown",
   "metadata": {},
   "source": [
    "### 2.3 Prepare data from eztrack to analyse"
   ]
  },
  {
   "cell_type": "code",
   "execution_count": null,
   "metadata": {},
   "outputs": [],
   "source": [
    "dir_path_ez = r'D:\\GoogleDrive\\work\\postdoc_nyu\\scientific_projects\\individual_differences\\data\\external\\EZ\\EXP004'\n",
    "file_path_ez = r'JC_EXP004_20200110_TES01_R_SummaryStats_EZ.xls'\n",
    "\n",
    "summary_stats_ez = pd.read_excel(\n",
    "    os.path.join(dir_path_ez, file_path_ez),\n",
    "    index_col=0,\n",
    ")\n",
    "\n",
    "summary_stats_ez.head()"
   ]
  },
  {
   "cell_type": "code",
   "execution_count": null,
   "metadata": {},
   "outputs": [],
   "source": [
    "# Drop Unnecessary columns\n",
    "summary_stats_ez.drop(columns=['Exp', 'Sex', 'Group', 'Session'], inplace=True)"
   ]
  },
  {
   "cell_type": "code",
   "execution_count": null,
   "metadata": {},
   "outputs": [],
   "source": [
    "# Lowercase title for columns\n",
    "summary_stats_ez.columns = summary_stats_ez.columns.str.lower()"
   ]
  },
  {
   "cell_type": "code",
   "execution_count": null,
   "metadata": {},
   "outputs": [],
   "source": [
    "summary_stats_ez['cs_epoch'] = 'peri_cs'"
   ]
  },
  {
   "cell_type": "code",
   "execution_count": null,
   "metadata": {},
   "outputs": [],
   "source": [
    "# Transform the table into the wide format\n",
    "summary_stats_ez = summary_stats_ez.melt(\n",
    "    id_vars=['animal_id', 'cs_epoch'],\n",
    "    value_vars=[f'cs_0{n}' for n in range(1, 6)],\n",
    "    var_name='cs_id',\n",
    "    value_name='freezing_norm_ez',\n",
    ")"
   ]
  },
  {
   "cell_type": "code",
   "execution_count": null,
   "metadata": {},
   "outputs": [],
   "source": [
    "# Correct normalization (0 to 1, instead of 0 to 100)\n",
    "summary_stats_ez['freezing_norm_ez'] = summary_stats_ez['freezing_norm_ez'].agg(lambda x: round(x/100, 2))"
   ]
  },
  {
   "cell_type": "code",
   "execution_count": null,
   "metadata": {},
   "outputs": [],
   "source": [
    "summary_stats_ez.sort_values(by=['animal_id', 'cs_id'], inplace=True)"
   ]
  },
  {
   "cell_type": "markdown",
   "metadata": {},
   "source": [
    "### 2.4) Merge all dataframes"
   ]
  },
  {
   "cell_type": "code",
   "execution_count": null,
   "metadata": {},
   "outputs": [],
   "source": [
    "print(f'shape of the dataframes {summary_stats_dlc.shape}, {summary_stats_rt.shape}, {summary_stats_ez.shape}')"
   ]
  },
  {
   "cell_type": "code",
   "execution_count": null,
   "metadata": {},
   "outputs": [],
   "source": [
    "main = pd.concat(\n",
    "    [summary_stats_dlc.reset_index(drop=True),\n",
    "     summary_stats_ez.reset_index(drop=True),\n",
    "     summary_stats_rt.reset_index(drop=True),\n",
    "    ],\n",
    "    axis=1,\n",
    ")"
   ]
  },
  {
   "cell_type": "code",
   "execution_count": null,
   "metadata": {},
   "outputs": [],
   "source": [
    "main = main.loc[:, ~main.columns.duplicated()]\n",
    "main.head()"
   ]
  },
  {
   "cell_type": "code",
   "execution_count": null,
   "metadata": {},
   "outputs": [],
   "source": [
    "# Data read for analysis\n",
    "summary_stats_main = main.copy()"
   ]
  },
  {
   "cell_type": "markdown",
   "metadata": {},
   "source": [
    "# 3) Data Visualization and Analysis"
   ]
  },
  {
   "cell_type": "markdown",
   "metadata": {},
   "source": [
    "### 3.1) Correlations and Regressions"
   ]
  },
  {
   "cell_type": "code",
   "execution_count": null,
   "metadata": {},
   "outputs": [],
   "source": [
    "sns.set(\n",
    "    context='talk',\n",
    "    style='darkgrid',\n",
    "    palette='colorblind',\n",
    "    font='sans-serif',\n",
    "    font_scale=1,\n",
    "    color_codes=True,\n",
    "    rc=None,\n",
    ")"
   ]
  },
  {
   "cell_type": "code",
   "execution_count": null,
   "metadata": {},
   "outputs": [],
   "source": [
    "fig, axes = plt.subplots(1, 2, figsize=(12, 5))\n",
    "sns.regplot(\n",
    "    x='freezing_norm_rt',\n",
    "    y='freezing_norm_ez',\n",
    "    data=summary_stats_main,\n",
    "    ax=axes[0]\n",
    ")\n",
    "\n",
    "sns.regplot(\n",
    "    x='freezing_norm_rt',\n",
    "    y='freezing_norm_dlc',\n",
    "    data=summary_stats_main,\n",
    "    ax=axes[1]\n",
    ")\n",
    "for n in range(2):\n",
    "    axes[n].set(ylim=(0, 1), xlim=(0.,1))\n",
    "fig.suptitle('Linear Regression Plot: \\n Left: Rodrigo vs EZ-Track | Right: Rodrigo vs DeepLabCut', y=1.05)\n"
   ]
  },
  {
   "cell_type": "code",
   "execution_count": null,
   "metadata": {},
   "outputs": [],
   "source": [
    "fig, axes = plt.subplots(1, 2, figsize=(15, 5))\n",
    "sns.residplot(\n",
    "    x='freezing_norm_rt',\n",
    "    y='freezing_norm_ez',\n",
    "    data=summary_stats_main,\n",
    "    ax=axes[0]\n",
    ")\n",
    "\n",
    "sns.residplot(\n",
    "    x='freezing_norm_rt',\n",
    "    y='freezing_norm_dlc',\n",
    "    data=summary_stats_main,\n",
    "    ax=axes[1]\n",
    ")\n",
    "\n",
    "fig.suptitle('Residual Plot for Linear Regression Fit: \\n Left: Rodrigo vs EZ-Track | Right: Rodrigo vs DeepLabCut', y=1.05)\n"
   ]
  },
  {
   "cell_type": "markdown",
   "metadata": {},
   "source": [
    "### 3.2) Pearson's Correlation"
   ]
  },
  {
   "cell_type": "code",
   "execution_count": null,
   "metadata": {},
   "outputs": [],
   "source": [
    "r, p_value = stats.pearsonr(summary_stats_main['freezing_norm_dlc'],\n",
    "               summary_stats_main['freezing_norm_rt'],)\n",
    "\n",
    "print('Correlation coefficient between Deeplabcut vs Rodrigo')\n",
    "print(f\"Pearson's correlation coefficient is {round(r, 2)} with an associated p value of {p_value}\")"
   ]
  },
  {
   "cell_type": "code",
   "execution_count": null,
   "metadata": {},
   "outputs": [],
   "source": [
    "r, p_value = stats.pearsonr(summary_stats_main['freezing_norm_dlc'],\n",
    "               summary_stats_main['freezing_norm_ez'],)\n",
    "\n",
    "print('Correlation coefficient between Deeplabcut vs EzTrack (from Cai Lab)')\n",
    "print(f\"Pearson's correlation coefficient is {round(r, 2)} with an associated p value of {p_value}\")"
   ]
  },
  {
   "cell_type": "markdown",
   "metadata": {},
   "source": [
    "### 3.3) Linear Regressions"
   ]
  },
  {
   "cell_type": "code",
   "execution_count": null,
   "metadata": {},
   "outputs": [],
   "source": [
    "from sklearn.linear_model import LinearRegression"
   ]
  },
  {
   "cell_type": "code",
   "execution_count": null,
   "metadata": {},
   "outputs": [],
   "source": [
    "# Data to use in the regressions\n",
    "freezing_rt = summary_stats_main[['freezing_norm_rt']]\n",
    "freezing_dlc = summary_stats_main['freezing_norm_dlc']\n",
    "freezing_ez = summary_stats_main[['freezing_norm_ez']]"
   ]
  },
  {
   "cell_type": "markdown",
   "metadata": {},
   "source": [
    "#### 3.3.1) Rodrigo vs Deeplabcut"
   ]
  },
  {
   "cell_type": "code",
   "execution_count": null,
   "metadata": {},
   "outputs": [],
   "source": [
    "lm = LinearRegression()\n",
    "lm.fit(freezing_rt, freezing_dlc)"
   ]
  },
  {
   "cell_type": "code",
   "execution_count": null,
   "metadata": {},
   "outputs": [],
   "source": [
    "print('Rodrigo vs Deeplabcut')\n",
    "print(f'f(x) = {lm.coef_}x + {lm.intercept_}')\n",
    "print(f'Coefficient of Determination : {round(lm.score(freezing_rt, freezing_dlc), 2)}')"
   ]
  },
  {
   "cell_type": "markdown",
   "metadata": {},
   "source": [
    "#### 3.3.1) Rodrigo vs EZtrack"
   ]
  },
  {
   "cell_type": "code",
   "execution_count": null,
   "metadata": {},
   "outputs": [],
   "source": [
    "lm = LinearRegression()\n",
    "lm.fit(freezing_rt, freezing_ez)"
   ]
  },
  {
   "cell_type": "code",
   "execution_count": null,
   "metadata": {},
   "outputs": [],
   "source": [
    "print('Rodrigo vs EZ Track')\n",
    "print(f'f(x) = {(lm.coef_)}x + {lm.intercept_}')\n",
    "print(f'Coefficient of Determination : {round(lm.score(freezing_rt, freezing_ez), 2)}')"
   ]
  },
  {
   "cell_type": "markdown",
   "metadata": {},
   "source": [
    "# 4) Descriptive Statistics"
   ]
  },
  {
   "cell_type": "code",
   "execution_count": null,
   "metadata": {},
   "outputs": [],
   "source": [
    "# Transform data into the long (ie \"tidy\" format)\n",
    "summary_stats_main_long = summary_stats_main.melt(\n",
    "    id_vars=['animal_id', 'cs_id', 'cs_epoch'],\n",
    "    value_vars=['freezing_norm_dlc', 'freezing_norm_ez', 'freezing_norm_rt'],\n",
    "    var_name='scorer',\n",
    "    value_name='freezing_norm',\n",
    ")\n",
    "\n",
    "# Replace the name of scorers with shorter versions\n",
    "summary_stats_main_long = summary_stats_main_long.replace(\n",
    "    'freezing_norm_dlc', 'dlc').replace('freezing_norm_ez', 'ez').replace('freezing_norm_rt', 'rt')\n",
    "\n",
    "summary_stats_main_long.head()"
   ]
  },
  {
   "cell_type": "code",
   "execution_count": null,
   "metadata": {},
   "outputs": [],
   "source": [
    "summary_stats_main_long.head()"
   ]
  },
  {
   "cell_type": "markdown",
   "metadata": {},
   "source": [
    "### 4.2 Distributions of freezing accross scorers"
   ]
  },
  {
   "cell_type": "code",
   "execution_count": null,
   "metadata": {},
   "outputs": [],
   "source": [
    "sns.catplot(\n",
    "    x='scorer',\n",
    "    y='freezing_norm',\n",
    "    data=summary_stats_main_long,\n",
    "    hue='cs_id',\n",
    "    col='cs_id',\n",
    "    kind='box'\n",
    ")"
   ]
  },
  {
   "cell_type": "markdown",
   "metadata": {},
   "source": [
    "### 4.3) What about the general distribution?"
   ]
  },
  {
   "cell_type": "code",
   "execution_count": null,
   "metadata": {},
   "outputs": [],
   "source": [
    "fig, axes = plt.subplots(1, 3, figsize=(15, 5))\n",
    "\n",
    "sns.distplot(\n",
    "    summary_stats_main_long[summary_stats_main_long['scorer']=='dlc'].freezing_norm,\n",
    "    ax=axes[0], \n",
    "    bins= np.linspace(0, 1, 11)\n",
    ")\n",
    "sns.distplot(\n",
    "    summary_stats_main_long[summary_stats_main_long['scorer']=='rt'].freezing_norm,\n",
    "    ax=axes[1],\n",
    "    bins= np.linspace(0, 1, 11),\n",
    "    color='orange'\n",
    ")\n",
    "sns.distplot(\n",
    "    summary_stats_main_long[summary_stats_main_long['scorer']=='ez'].freezing_norm,\n",
    "    ax=axes[2],\n",
    "    bins= np.linspace(0, 1, 11),\n",
    "    color='grey'\n",
    ")\n",
    "for index, scorer in enumerate(['dlc', 'rt', 'ez']):\n",
    "    axes[index].set(title=f'Freezing scored by: {scorer}')"
   ]
  },
  {
   "cell_type": "markdown",
   "metadata": {},
   "source": [
    "### 4.4) Magnitude of freezing accress scorers, accross cs"
   ]
  },
  {
   "cell_type": "code",
   "execution_count": null,
   "metadata": {},
   "outputs": [],
   "source": [
    "sns.relplot(\n",
    "    x='scorer',\n",
    "    y='freezing_norm',\n",
    "    data=summary_stats_main_long,\n",
    "    hue='cs_id',\n",
    "    col='cs_id',\n",
    "    kind='line',\n",
    ")\n",
    "plt.ylim(0, 1)"
   ]
  },
  {
   "cell_type": "code",
   "execution_count": null,
   "metadata": {},
   "outputs": [],
   "source": [
    "sns.catplot(\n",
    "    x='scorer',\n",
    "    y='freezing_norm',\n",
    "    data=summary_stats_main_long,\n",
    "    hue='cs_id',\n",
    "    estimator=np.mean,\n",
    "    kind='bar',\n",
    ")\n",
    "plt.ylim(0, 1)"
   ]
  },
  {
   "cell_type": "markdown",
   "metadata": {},
   "source": [
    "### 4.5) Overall freezing"
   ]
  },
  {
   "cell_type": "code",
   "execution_count": null,
   "metadata": {},
   "outputs": [],
   "source": [
    "freezing = summary_stats_main_long.pivot_table(\n",
    "    values=['freezing_norm'],\n",
    "    index=['animal_id'],\n",
    "    columns=['cs_id', 'scorer'],\n",
    ")\n",
    "\n",
    "freezing = freezing.groupby(axis=1, level=2).mean()\n",
    "freezing.head()"
   ]
  },
  {
   "cell_type": "code",
   "execution_count": null,
   "metadata": {},
   "outputs": [],
   "source": [
    "fig, ax = plt.subplots(figsize=(3, 5))\n",
    "ax.bar(\n",
    "    x=freezing.columns,\n",
    "    height=freezing.mean(), \n",
    "    yerr=freezing.sem()\n",
    ")\n",
    "\n",
    "ax.set(ylim=(0, 1), title='freezing normalized', ylabel='freezing_norm', xlabel='scorer')"
   ]
  },
  {
   "cell_type": "markdown",
   "metadata": {},
   "source": [
    "### 4.6) Are means significantly different?"
   ]
  },
  {
   "cell_type": "code",
   "execution_count": null,
   "metadata": {},
   "outputs": [],
   "source": [
    "freezing.reset_index(inplace=True)"
   ]
  },
  {
   "cell_type": "code",
   "execution_count": null,
   "metadata": {},
   "outputs": [],
   "source": [
    "# Preparing the data\n",
    "freezing_long = freezing.melt(\n",
    "    id_vars='animal_id',\n",
    "    value_vars=['dlc', 'ez', 'rt'],\n",
    "    var_name='scorer',\n",
    "    value_name='freezing_norm'\n",
    ")"
   ]
  },
  {
   "cell_type": "code",
   "execution_count": null,
   "metadata": {},
   "outputs": [],
   "source": [
    "pg.kruskal(\n",
    "    freezing_long,\n",
    "    dv='freezing_norm', \n",
    "    between='scorer',\n",
    "    detailed=True\n",
    ")"
   ]
  },
  {
   "cell_type": "code",
   "execution_count": null,
   "metadata": {},
   "outputs": [],
   "source": [
    "stats.kruskal(freezing.rt, freezing.dlc, freezing.ez)"
   ]
  }
 ],
 "metadata": {
  "kernelspec": {
   "display_name": "Python 3",
   "language": "python",
   "name": "python3"
  },
  "language_info": {
   "codemirror_mode": {
    "name": "ipython",
    "version": 3
   },
   "file_extension": ".py",
   "mimetype": "text/x-python",
   "name": "python",
   "nbconvert_exporter": "python",
   "pygments_lexer": "ipython3",
   "version": "3.7.6"
  }
 },
 "nbformat": 4,
 "nbformat_minor": 4
}
