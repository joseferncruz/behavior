{
 "cells": [
  {
   "cell_type": "markdown",
   "metadata": {},
   "source": [
    "# notebook n02: Freezing/Darting Detection\n",
    "\n",
    "Jose Oliveira da Cruz, PhD  | LeDoux Lab  \n",
    "jose.cruz@nyu.edu  \n",
    "\n",
    "<img src=\"https://misophoniainternational.com/wp-content/uploads/2016/04/LedouxLab.jpg\" style=\"width: 200.464px; height: 200px; margin: 0px;\">"
   ]
  },
  {
   "cell_type": "markdown",
   "metadata": {},
   "source": [
    "This notebooks takes data files from nb01_transform_dlc_output (i.e. ``_individual_preprocessing_dlc.csv``) and:\n",
    "\n",
    "A) Perform motion analysis\n",
    "\n",
    "1. Load deeplabcut data\n",
    "2. Fetch information about specific animal\n",
    "3. Create new empty dataframe to hold the results\n",
    "4. Freezing detector: Calculate freezing events based on euclidean distance\n",
    "5. Darting detector\n",
    "6. Save the data\n",
    "\n",
    "\n",
    "*Currently being developed: head_direction detector*  \n",
    "\n",
    "\n",
    "\n",
    "B) Motion analysis visualization\n",
    "\n",
    "1.\n"
   ]
  },
  {
   "cell_type": "markdown",
   "metadata": {},
   "source": [
    "# Import dependencies\n",
    "import numpy as np\n",
    "import pandas as pd\n",
    "import matplotlib.pyplot as plt\n",
    "from scipy.signal import savgol_filter, correlate\n",
    "import os\n",
    "import sys\n",
    "from scipy.interpolate import interp1d\n",
    "from scipy import stats\n",
    "import time\n",
    "import glob\n",
    "import importlib\n",
    "import warnings\n",
    "\n",
    "\n",
    "# Import my code\n",
    "sys.path.append(r'D:\\GoogleDrive\\work\\postdoc_nyu\\scientific_projects\\individual_differences\\src')\n",
    "from tools.utils.organization import *\n",
    "from analysis.motion_analysis import *\n",
    "from analysis.freezing_analysis import *\n",
    "from visualization import *\n",
    "from visualization.plot_events import *\n"
   ]
  },
  {
   "cell_type": "code",
   "execution_count": 1,
   "metadata": {},
   "outputs": [],
   "source": [
    "# Import dependencies\n",
    "#import numpy as np\n",
    "import pandas as pd\n",
    "import matplotlib.pyplot as plt\n",
    "from scipy.signal import savgol_filter, correlate\n",
    "import os\n",
    "import sys\n",
    "\n",
    "\n",
    "# Import my code\n",
    "sys.path.append(r'D:\\GoogleDrive\\work\\postdoc_nyu\\scientific_projects\\individual_differences\\src')\n",
    "from tools.utils.organization import *\n",
    "from analysis.motion_analysis import *\n",
    "from analysis.freezing_analysis import *\n",
    "from visualization import *\n",
    "from visualization.plot_events import *\n"
   ]
  },
  {
   "cell_type": "markdown",
   "metadata": {},
   "source": [
    "## Specify where to save the data for each step (see above, A and B)"
   ]
  },
  {
   "cell_type": "code",
   "execution_count": 2,
   "metadata": {},
   "outputs": [
    {
     "name": "stdout",
     "output_type": "stream",
     "text": [
      "Does the directory exist? \n",
      " a: True\n"
     ]
    }
   ],
   "source": [
    "step_a_save_dir = r'D:\\GoogleDrive\\work\\postdoc_nyu\\scientific_projects\\individual_differences\\data\\interim\\EXP004\\motion_analysis_dlc'\n",
    "\n",
    "print(f'Does the directory exist? \\n a: {os.path.isdir(step_a_save_dir)}') "
   ]
  },
  {
   "cell_type": "markdown",
   "metadata": {},
   "source": [
    "# Step A: Perform Motion Analysis (so far: freezing and darting)"
   ]
  },
  {
   "cell_type": "markdown",
   "metadata": {},
   "source": [
    "## 1) Load `_individual_preprocessing_dlc.csv`"
   ]
  },
  {
   "cell_type": "code",
   "execution_count": null,
   "metadata": {},
   "outputs": [],
   "source": [
    "# Open dataframe\n",
    "\n",
    "dpath = r'D:\\GoogleDrive\\work\\postdoc_nyu\\scientific_projects\\individual_differences\\data\\interim\\EXP004\\individual_preprocessing_dlc'\n",
    "fpath = 'jc_exp004_20200110_tes01_r_286600_t00_individual_preprocessing_dlc.csv'\n",
    "\n",
    "print(f'File exists?\\n- {os.path.isfile(os.path.join(dpath, fpath))}')"
   ]
  },
  {
   "cell_type": "code",
   "execution_count": 265,
   "metadata": {},
   "outputs": [
    {
     "data": {
      "text/html": [
       "<div>\n",
       "<style scoped>\n",
       "    .dataframe tbody tr th:only-of-type {\n",
       "        vertical-align: middle;\n",
       "    }\n",
       "\n",
       "    .dataframe tbody tr th {\n",
       "        vertical-align: top;\n",
       "    }\n",
       "\n",
       "    .dataframe thead th {\n",
       "        text-align: right;\n",
       "    }\n",
       "</style>\n",
       "<table border=\"1\" class=\"dataframe\">\n",
       "  <thead>\n",
       "    <tr style=\"text-align: right;\">\n",
       "      <th></th>\n",
       "      <th>user</th>\n",
       "      <th>exp_id</th>\n",
       "      <th>treatment</th>\n",
       "      <th>session</th>\n",
       "      <th>species</th>\n",
       "      <th>animal_id</th>\n",
       "      <th>session.1</th>\n",
       "      <th>cs_id</th>\n",
       "      <th>cs_epoch</th>\n",
       "      <th>ed_between_eyes</th>\n",
       "      <th>...</th>\n",
       "      <th>ed_tail_start</th>\n",
       "      <th>ed_head</th>\n",
       "      <th>speed_between_eyes</th>\n",
       "      <th>speed_upper_torso</th>\n",
       "      <th>speed_ear_left</th>\n",
       "      <th>speed_ear_right</th>\n",
       "      <th>speed_snout</th>\n",
       "      <th>speed_medium_torso</th>\n",
       "      <th>speed_tail_start</th>\n",
       "      <th>speed_head</th>\n",
       "    </tr>\n",
       "  </thead>\n",
       "  <tbody>\n",
       "    <tr>\n",
       "      <th>1</th>\n",
       "      <td>JC</td>\n",
       "      <td>exp004</td>\n",
       "      <td>NaN</td>\n",
       "      <td>tes01</td>\n",
       "      <td>rat</td>\n",
       "      <td>286600</td>\n",
       "      <td>tes01</td>\n",
       "      <td>cs_01</td>\n",
       "      <td>pre_cs</td>\n",
       "      <td>0.053482</td>\n",
       "      <td>...</td>\n",
       "      <td>0.028419</td>\n",
       "      <td>0.071064</td>\n",
       "      <td>1.604452</td>\n",
       "      <td>4.743722</td>\n",
       "      <td>3.062891</td>\n",
       "      <td>2.207633</td>\n",
       "      <td>2.111145</td>\n",
       "      <td>5.501756</td>\n",
       "      <td>0.852568</td>\n",
       "      <td>2.131927</td>\n",
       "    </tr>\n",
       "    <tr>\n",
       "      <th>2</th>\n",
       "      <td>JC</td>\n",
       "      <td>exp004</td>\n",
       "      <td>NaN</td>\n",
       "      <td>tes01</td>\n",
       "      <td>rat</td>\n",
       "      <td>286600</td>\n",
       "      <td>tes01</td>\n",
       "      <td>cs_01</td>\n",
       "      <td>pre_cs</td>\n",
       "      <td>0.052604</td>\n",
       "      <td>...</td>\n",
       "      <td>0.030065</td>\n",
       "      <td>0.095959</td>\n",
       "      <td>1.578107</td>\n",
       "      <td>2.710574</td>\n",
       "      <td>3.981599</td>\n",
       "      <td>2.009457</td>\n",
       "      <td>2.328639</td>\n",
       "      <td>0.736909</td>\n",
       "      <td>0.901937</td>\n",
       "      <td>2.878760</td>\n",
       "    </tr>\n",
       "    <tr>\n",
       "      <th>3</th>\n",
       "      <td>JC</td>\n",
       "      <td>exp004</td>\n",
       "      <td>NaN</td>\n",
       "      <td>tes01</td>\n",
       "      <td>rat</td>\n",
       "      <td>286600</td>\n",
       "      <td>tes01</td>\n",
       "      <td>cs_01</td>\n",
       "      <td>pre_cs</td>\n",
       "      <td>0.151493</td>\n",
       "      <td>...</td>\n",
       "      <td>0.051288</td>\n",
       "      <td>0.139623</td>\n",
       "      <td>4.544802</td>\n",
       "      <td>5.181223</td>\n",
       "      <td>4.256061</td>\n",
       "      <td>1.851936</td>\n",
       "      <td>4.762084</td>\n",
       "      <td>0.264307</td>\n",
       "      <td>1.538644</td>\n",
       "      <td>4.188688</td>\n",
       "    </tr>\n",
       "    <tr>\n",
       "      <th>4</th>\n",
       "      <td>JC</td>\n",
       "      <td>exp004</td>\n",
       "      <td>NaN</td>\n",
       "      <td>tes01</td>\n",
       "      <td>rat</td>\n",
       "      <td>286600</td>\n",
       "      <td>tes01</td>\n",
       "      <td>cs_01</td>\n",
       "      <td>pre_cs</td>\n",
       "      <td>0.029928</td>\n",
       "      <td>...</td>\n",
       "      <td>0.005432</td>\n",
       "      <td>0.064404</td>\n",
       "      <td>0.897849</td>\n",
       "      <td>9.193181</td>\n",
       "      <td>2.215045</td>\n",
       "      <td>1.276443</td>\n",
       "      <td>0.586244</td>\n",
       "      <td>6.605660</td>\n",
       "      <td>0.162962</td>\n",
       "      <td>1.932118</td>\n",
       "    </tr>\n",
       "    <tr>\n",
       "      <th>5</th>\n",
       "      <td>JC</td>\n",
       "      <td>exp004</td>\n",
       "      <td>NaN</td>\n",
       "      <td>tes01</td>\n",
       "      <td>rat</td>\n",
       "      <td>286600</td>\n",
       "      <td>tes01</td>\n",
       "      <td>cs_01</td>\n",
       "      <td>pre_cs</td>\n",
       "      <td>0.090604</td>\n",
       "      <td>...</td>\n",
       "      <td>0.020646</td>\n",
       "      <td>0.175430</td>\n",
       "      <td>2.718119</td>\n",
       "      <td>1.895230</td>\n",
       "      <td>5.186983</td>\n",
       "      <td>1.527428</td>\n",
       "      <td>8.203307</td>\n",
       "      <td>4.509290</td>\n",
       "      <td>0.619378</td>\n",
       "      <td>5.262901</td>\n",
       "    </tr>\n",
       "  </tbody>\n",
       "</table>\n",
       "<p>5 rows × 25 columns</p>\n",
       "</div>"
      ],
      "text/plain": [
       "  user  exp_id  treatment session species  animal_id session.1  cs_id  \\\n",
       "1   JC  exp004        NaN   tes01     rat     286600     tes01  cs_01   \n",
       "2   JC  exp004        NaN   tes01     rat     286600     tes01  cs_01   \n",
       "3   JC  exp004        NaN   tes01     rat     286600     tes01  cs_01   \n",
       "4   JC  exp004        NaN   tes01     rat     286600     tes01  cs_01   \n",
       "5   JC  exp004        NaN   tes01     rat     286600     tes01  cs_01   \n",
       "\n",
       "  cs_epoch  ed_between_eyes  ...  ed_tail_start   ed_head  speed_between_eyes  \\\n",
       "1   pre_cs         0.053482  ...       0.028419  0.071064            1.604452   \n",
       "2   pre_cs         0.052604  ...       0.030065  0.095959            1.578107   \n",
       "3   pre_cs         0.151493  ...       0.051288  0.139623            4.544802   \n",
       "4   pre_cs         0.029928  ...       0.005432  0.064404            0.897849   \n",
       "5   pre_cs         0.090604  ...       0.020646  0.175430            2.718119   \n",
       "\n",
       "   speed_upper_torso  speed_ear_left  speed_ear_right  speed_snout  \\\n",
       "1           4.743722        3.062891         2.207633     2.111145   \n",
       "2           2.710574        3.981599         2.009457     2.328639   \n",
       "3           5.181223        4.256061         1.851936     4.762084   \n",
       "4           9.193181        2.215045         1.276443     0.586244   \n",
       "5           1.895230        5.186983         1.527428     8.203307   \n",
       "\n",
       "   speed_medium_torso  speed_tail_start  speed_head  \n",
       "1            5.501756          0.852568    2.131927  \n",
       "2            0.736909          0.901937    2.878760  \n",
       "3            0.264307          1.538644    4.188688  \n",
       "4            6.605660          0.162962    1.932118  \n",
       "5            4.509290          0.619378    5.262901  \n",
       "\n",
       "[5 rows x 25 columns]"
      ]
     },
     "metadata": {},
     "output_type": "display_data"
    }
   ],
   "source": [
    "# Load data\n",
    "dataframe = pd.read_csv(\n",
    "    \n",
    "    os.path.join(dpath, fpath),\n",
    "    index_col=0,\n",
    "    \n",
    ")\n",
    "\n",
    "# Inspect dataframe\n",
    "display(dataframe.head())"
   ]
  },
  {
   "cell_type": "markdown",
   "metadata": {},
   "source": [
    "## 2) Fetch information about a specific rat\n",
    "\n",
    "The code bellow will read the video key( e.g `JC_EXP005_20200124_TES01_R_287073_T00`) and search for the complete information about this specific animal.  \n",
    "Then it creates an instance of the Animal class with the complete information of the animal."
   ]
  },
  {
   "cell_type": "markdown",
   "metadata": {},
   "source": [
    "### 2.1) Load Global Animal Record and Experiment information"
   ]
  },
  {
   "cell_type": "code",
   "execution_count": 266,
   "metadata": {},
   "outputs": [],
   "source": [
    "# Where is the main record?\n",
    "main_record_directory = r'D:\\GoogleDrive\\work\\postdoc_nyu\\scientific_projects\\individual_differences\\animal_record\\main_record'\n",
    "main_record_basename = 'main_record_20200325_151527.csv'\n",
    "\n",
    "main_record = os.path.join(main_record_directory,\n",
    "                           main_record_basename)"
   ]
  },
  {
   "cell_type": "code",
   "execution_count": 267,
   "metadata": {},
   "outputs": [],
   "source": [
    "# Where is the information about the experiment?\n",
    "experiment_info_directory = r'D:\\GoogleDrive\\work\\postdoc_nyu\\scientific_projects\\individual_differences\\data\\interim\\EXP004\\bonsai_extraction_led_epochs_frame_rate'\n",
    "experiment_info_basename = 'JC_EXP004_20200110_TES01_cs_index_plus_frame_rate.csv'\n",
    "experiment_info = os.path.join(experiment_info_directory,\n",
    "                               experiment_info_basename)"
   ]
  },
  {
   "cell_type": "markdown",
   "metadata": {},
   "source": [
    "### 2.2) Fetch animal information"
   ]
  },
  {
   "cell_type": "code",
   "execution_count": 268,
   "metadata": {},
   "outputs": [],
   "source": [
    "# Search object with regular expressions\n",
    "pattern = r'(\\w\\w_\\w\\w\\w\\d\\d\\d_\\d\\d\\d\\d\\d\\d\\d\\d_\\w\\w\\w\\d\\d_\\w_\\d\\d\\d\\d\\d\\d_\\w\\d\\d)'\n",
    "video_key = re.search(pattern, fpath).group()\n",
    "\n",
    "# Fetch information\n",
    "rat = fetch_animal_info(\n",
    "    video_key, \n",
    "    main_record, \n",
    "    experiment_info,\n",
    ")"
   ]
  },
  {
   "cell_type": "markdown",
   "metadata": {},
   "source": [
    "## 3) Create new empty dataframe to hold the results"
   ]
  },
  {
   "cell_type": "code",
   "execution_count": 269,
   "metadata": {},
   "outputs": [
    {
     "data": {
      "text/html": [
       "<div>\n",
       "<style scoped>\n",
       "    .dataframe tbody tr th:only-of-type {\n",
       "        vertical-align: middle;\n",
       "    }\n",
       "\n",
       "    .dataframe tbody tr th {\n",
       "        vertical-align: top;\n",
       "    }\n",
       "\n",
       "    .dataframe thead th {\n",
       "        text-align: right;\n",
       "    }\n",
       "</style>\n",
       "<table border=\"1\" class=\"dataframe\">\n",
       "  <thead>\n",
       "    <tr style=\"text-align: right;\">\n",
       "      <th></th>\n",
       "      <th>user</th>\n",
       "      <th>exp_id</th>\n",
       "      <th>treatment</th>\n",
       "      <th>session</th>\n",
       "      <th>species</th>\n",
       "      <th>animal_id</th>\n",
       "      <th>session</th>\n",
       "      <th>cs_id</th>\n",
       "      <th>cs_epoch</th>\n",
       "    </tr>\n",
       "  </thead>\n",
       "  <tbody>\n",
       "    <tr>\n",
       "      <th>1</th>\n",
       "      <td>JC</td>\n",
       "      <td>exp004</td>\n",
       "      <td>NaN</td>\n",
       "      <td>tes01</td>\n",
       "      <td>rat</td>\n",
       "      <td>286600</td>\n",
       "      <td>tes01</td>\n",
       "      <td>cs_01</td>\n",
       "      <td>pre_cs</td>\n",
       "    </tr>\n",
       "    <tr>\n",
       "      <th>2</th>\n",
       "      <td>JC</td>\n",
       "      <td>exp004</td>\n",
       "      <td>NaN</td>\n",
       "      <td>tes01</td>\n",
       "      <td>rat</td>\n",
       "      <td>286600</td>\n",
       "      <td>tes01</td>\n",
       "      <td>cs_01</td>\n",
       "      <td>pre_cs</td>\n",
       "    </tr>\n",
       "    <tr>\n",
       "      <th>3</th>\n",
       "      <td>JC</td>\n",
       "      <td>exp004</td>\n",
       "      <td>NaN</td>\n",
       "      <td>tes01</td>\n",
       "      <td>rat</td>\n",
       "      <td>286600</td>\n",
       "      <td>tes01</td>\n",
       "      <td>cs_01</td>\n",
       "      <td>pre_cs</td>\n",
       "    </tr>\n",
       "    <tr>\n",
       "      <th>4</th>\n",
       "      <td>JC</td>\n",
       "      <td>exp004</td>\n",
       "      <td>NaN</td>\n",
       "      <td>tes01</td>\n",
       "      <td>rat</td>\n",
       "      <td>286600</td>\n",
       "      <td>tes01</td>\n",
       "      <td>cs_01</td>\n",
       "      <td>pre_cs</td>\n",
       "    </tr>\n",
       "    <tr>\n",
       "      <th>5</th>\n",
       "      <td>JC</td>\n",
       "      <td>exp004</td>\n",
       "      <td>NaN</td>\n",
       "      <td>tes01</td>\n",
       "      <td>rat</td>\n",
       "      <td>286600</td>\n",
       "      <td>tes01</td>\n",
       "      <td>cs_01</td>\n",
       "      <td>pre_cs</td>\n",
       "    </tr>\n",
       "  </tbody>\n",
       "</table>\n",
       "</div>"
      ],
      "text/plain": [
       "  user  exp_id  treatment session species  animal_id session  cs_id cs_epoch\n",
       "1   JC  exp004        NaN   tes01     rat     286600   tes01  cs_01   pre_cs\n",
       "2   JC  exp004        NaN   tes01     rat     286600   tes01  cs_01   pre_cs\n",
       "3   JC  exp004        NaN   tes01     rat     286600   tes01  cs_01   pre_cs\n",
       "4   JC  exp004        NaN   tes01     rat     286600   tes01  cs_01   pre_cs\n",
       "5   JC  exp004        NaN   tes01     rat     286600   tes01  cs_01   pre_cs"
      ]
     },
     "execution_count": 269,
     "metadata": {},
     "output_type": "execute_result"
    }
   ],
   "source": [
    "columns = ['user', 'exp_id', 'treatment', 'session', 'species', 'animal_id', 'session', 'cs_id', 'cs_epoch']\n",
    "\n",
    "motion_dataframe = dataframe.copy()[columns]\n",
    "\n",
    "motion_dataframe.head()"
   ]
  },
  {
   "cell_type": "markdown",
   "metadata": {},
   "source": [
    "## 4) Freezing Detector\n",
    "\n",
    "The freezing detector uses:\n",
    "1. Four bodyparts: between_eyes, head, ear_right and ear_left \n",
    "2. Euclidean distance between 2 consecutive points for each frame. Bellow threshld, it is considered immobility\n",
    "3. Consider only events with minimum of 0.5 second of freezing (==15 frames)  \n",
    "\n",
    "### 4.1) Define Variables"
   ]
  },
  {
   "cell_type": "code",
   "execution_count": 270,
   "metadata": {},
   "outputs": [],
   "source": [
    "# Define bodyparts\n",
    "bodyparts = ['head', 'ear_right', 'ear_left', 'between_eyes']\n",
    "motion_threshold = 0.20 # in cmarray_to_return\n",
    "min_freezing_duration = 15 # minimum duration in frames, for 30fps == 0.5 second"
   ]
  },
  {
   "cell_type": "markdown",
   "metadata": {},
   "source": [
    "### 4.2) Extract Freezing"
   ]
  },
  {
   "cell_type": "code",
   "execution_count": 271,
   "metadata": {},
   "outputs": [],
   "source": [
    "freezing_array = extract_freezing_events(dataframe, bodyparts, motion_threshold, min_freezing_duration)"
   ]
  },
  {
   "cell_type": "markdown",
   "metadata": {},
   "source": [
    "### 4.3) Update the dataframe with freezing event"
   ]
  },
  {
   "cell_type": "code",
   "execution_count": 272,
   "metadata": {},
   "outputs": [
    {
     "data": {
      "text/html": [
       "<div>\n",
       "<style scoped>\n",
       "    .dataframe tbody tr th:only-of-type {\n",
       "        vertical-align: middle;\n",
       "    }\n",
       "\n",
       "    .dataframe tbody tr th {\n",
       "        vertical-align: top;\n",
       "    }\n",
       "\n",
       "    .dataframe thead th {\n",
       "        text-align: right;\n",
       "    }\n",
       "</style>\n",
       "<table border=\"1\" class=\"dataframe\">\n",
       "  <thead>\n",
       "    <tr style=\"text-align: right;\">\n",
       "      <th></th>\n",
       "      <th>user</th>\n",
       "      <th>exp_id</th>\n",
       "      <th>treatment</th>\n",
       "      <th>session</th>\n",
       "      <th>species</th>\n",
       "      <th>animal_id</th>\n",
       "      <th>session</th>\n",
       "      <th>cs_id</th>\n",
       "      <th>cs_epoch</th>\n",
       "      <th>freezing_events</th>\n",
       "    </tr>\n",
       "  </thead>\n",
       "  <tbody>\n",
       "    <tr>\n",
       "      <th>1</th>\n",
       "      <td>JC</td>\n",
       "      <td>exp004</td>\n",
       "      <td>NaN</td>\n",
       "      <td>tes01</td>\n",
       "      <td>rat</td>\n",
       "      <td>286600</td>\n",
       "      <td>tes01</td>\n",
       "      <td>cs_01</td>\n",
       "      <td>pre_cs</td>\n",
       "      <td>0</td>\n",
       "    </tr>\n",
       "    <tr>\n",
       "      <th>2</th>\n",
       "      <td>JC</td>\n",
       "      <td>exp004</td>\n",
       "      <td>NaN</td>\n",
       "      <td>tes01</td>\n",
       "      <td>rat</td>\n",
       "      <td>286600</td>\n",
       "      <td>tes01</td>\n",
       "      <td>cs_01</td>\n",
       "      <td>pre_cs</td>\n",
       "      <td>0</td>\n",
       "    </tr>\n",
       "    <tr>\n",
       "      <th>3</th>\n",
       "      <td>JC</td>\n",
       "      <td>exp004</td>\n",
       "      <td>NaN</td>\n",
       "      <td>tes01</td>\n",
       "      <td>rat</td>\n",
       "      <td>286600</td>\n",
       "      <td>tes01</td>\n",
       "      <td>cs_01</td>\n",
       "      <td>pre_cs</td>\n",
       "      <td>0</td>\n",
       "    </tr>\n",
       "    <tr>\n",
       "      <th>4</th>\n",
       "      <td>JC</td>\n",
       "      <td>exp004</td>\n",
       "      <td>NaN</td>\n",
       "      <td>tes01</td>\n",
       "      <td>rat</td>\n",
       "      <td>286600</td>\n",
       "      <td>tes01</td>\n",
       "      <td>cs_01</td>\n",
       "      <td>pre_cs</td>\n",
       "      <td>0</td>\n",
       "    </tr>\n",
       "    <tr>\n",
       "      <th>5</th>\n",
       "      <td>JC</td>\n",
       "      <td>exp004</td>\n",
       "      <td>NaN</td>\n",
       "      <td>tes01</td>\n",
       "      <td>rat</td>\n",
       "      <td>286600</td>\n",
       "      <td>tes01</td>\n",
       "      <td>cs_01</td>\n",
       "      <td>pre_cs</td>\n",
       "      <td>0</td>\n",
       "    </tr>\n",
       "  </tbody>\n",
       "</table>\n",
       "</div>"
      ],
      "text/plain": [
       "  user  exp_id  treatment session species  animal_id session  cs_id cs_epoch  \\\n",
       "1   JC  exp004        NaN   tes01     rat     286600   tes01  cs_01   pre_cs   \n",
       "2   JC  exp004        NaN   tes01     rat     286600   tes01  cs_01   pre_cs   \n",
       "3   JC  exp004        NaN   tes01     rat     286600   tes01  cs_01   pre_cs   \n",
       "4   JC  exp004        NaN   tes01     rat     286600   tes01  cs_01   pre_cs   \n",
       "5   JC  exp004        NaN   tes01     rat     286600   tes01  cs_01   pre_cs   \n",
       "\n",
       "   freezing_events  \n",
       "1                0  \n",
       "2                0  \n",
       "3                0  \n",
       "4                0  \n",
       "5                0  "
      ]
     },
     "execution_count": 272,
     "metadata": {},
     "output_type": "execute_result"
    }
   ],
   "source": [
    "motion_dataframe['freezing_events'] = freezing_array\n",
    "motion_dataframe.head()"
   ]
  },
  {
   "cell_type": "markdown",
   "metadata": {},
   "source": [
    "## 5) Darting Detector\n",
    "\n",
    "Darting must respect 2 conditions: \n",
    "1. Increased in speed higher than `mean` + `1*std` of the raw signal and,\n",
    "2. Cumulative distance of more than `15 cm` during the events detected in 1)."
   ]
  },
  {
   "cell_type": "markdown",
   "metadata": {},
   "source": [
    "### 5.1) Define variables and conditions\n"
   ]
  },
  {
   "cell_type": "code",
   "execution_count": 273,
   "metadata": {},
   "outputs": [],
   "source": [
    "# Define thresholds\n",
    "threshold_speed = calculate_threshold(dataframe['speed_head'], factor=1)\n",
    "\n",
    "# Distance coverted during an event\n",
    "threshold_distance = 15 # cm\n",
    "\n",
    "# Data to calculate \n",
    "speed_array = savgol_filter(dataframe['speed_head'].to_numpy(), window_length=9, polyorder=1)\n",
    "distance_array = dataframe['ed_head'].to_numpy()\n"
   ]
  },
  {
   "cell_type": "markdown",
   "metadata": {},
   "source": [
    "### 5.2) Extract Darting"
   ]
  },
  {
   "cell_type": "code",
   "execution_count": 274,
   "metadata": {},
   "outputs": [],
   "source": [
    "darting_array, darting_list_index = extract_darting_events(\n",
    "    speed_array,\n",
    "    distance_array,\n",
    "    threshold_speed,\n",
    "    threshold_distance,\n",
    ")"
   ]
  },
  {
   "cell_type": "markdown",
   "metadata": {},
   "source": [
    "### 5.3) Update the dataframe with darting events"
   ]
  },
  {
   "cell_type": "code",
   "execution_count": 275,
   "metadata": {},
   "outputs": [
    {
     "data": {
      "text/html": [
       "<div>\n",
       "<style scoped>\n",
       "    .dataframe tbody tr th:only-of-type {\n",
       "        vertical-align: middle;\n",
       "    }\n",
       "\n",
       "    .dataframe tbody tr th {\n",
       "        vertical-align: top;\n",
       "    }\n",
       "\n",
       "    .dataframe thead th {\n",
       "        text-align: right;\n",
       "    }\n",
       "</style>\n",
       "<table border=\"1\" class=\"dataframe\">\n",
       "  <thead>\n",
       "    <tr style=\"text-align: right;\">\n",
       "      <th></th>\n",
       "      <th>user</th>\n",
       "      <th>exp_id</th>\n",
       "      <th>treatment</th>\n",
       "      <th>session</th>\n",
       "      <th>species</th>\n",
       "      <th>animal_id</th>\n",
       "      <th>session</th>\n",
       "      <th>cs_id</th>\n",
       "      <th>cs_epoch</th>\n",
       "      <th>freezing_events</th>\n",
       "      <th>darting_events</th>\n",
       "    </tr>\n",
       "  </thead>\n",
       "  <tbody>\n",
       "    <tr>\n",
       "      <th>1</th>\n",
       "      <td>JC</td>\n",
       "      <td>exp004</td>\n",
       "      <td>NaN</td>\n",
       "      <td>tes01</td>\n",
       "      <td>rat</td>\n",
       "      <td>286600</td>\n",
       "      <td>tes01</td>\n",
       "      <td>cs_01</td>\n",
       "      <td>pre_cs</td>\n",
       "      <td>0</td>\n",
       "      <td>0</td>\n",
       "    </tr>\n",
       "    <tr>\n",
       "      <th>2</th>\n",
       "      <td>JC</td>\n",
       "      <td>exp004</td>\n",
       "      <td>NaN</td>\n",
       "      <td>tes01</td>\n",
       "      <td>rat</td>\n",
       "      <td>286600</td>\n",
       "      <td>tes01</td>\n",
       "      <td>cs_01</td>\n",
       "      <td>pre_cs</td>\n",
       "      <td>0</td>\n",
       "      <td>0</td>\n",
       "    </tr>\n",
       "    <tr>\n",
       "      <th>3</th>\n",
       "      <td>JC</td>\n",
       "      <td>exp004</td>\n",
       "      <td>NaN</td>\n",
       "      <td>tes01</td>\n",
       "      <td>rat</td>\n",
       "      <td>286600</td>\n",
       "      <td>tes01</td>\n",
       "      <td>cs_01</td>\n",
       "      <td>pre_cs</td>\n",
       "      <td>0</td>\n",
       "      <td>0</td>\n",
       "    </tr>\n",
       "    <tr>\n",
       "      <th>4</th>\n",
       "      <td>JC</td>\n",
       "      <td>exp004</td>\n",
       "      <td>NaN</td>\n",
       "      <td>tes01</td>\n",
       "      <td>rat</td>\n",
       "      <td>286600</td>\n",
       "      <td>tes01</td>\n",
       "      <td>cs_01</td>\n",
       "      <td>pre_cs</td>\n",
       "      <td>0</td>\n",
       "      <td>0</td>\n",
       "    </tr>\n",
       "    <tr>\n",
       "      <th>5</th>\n",
       "      <td>JC</td>\n",
       "      <td>exp004</td>\n",
       "      <td>NaN</td>\n",
       "      <td>tes01</td>\n",
       "      <td>rat</td>\n",
       "      <td>286600</td>\n",
       "      <td>tes01</td>\n",
       "      <td>cs_01</td>\n",
       "      <td>pre_cs</td>\n",
       "      <td>0</td>\n",
       "      <td>0</td>\n",
       "    </tr>\n",
       "  </tbody>\n",
       "</table>\n",
       "</div>"
      ],
      "text/plain": [
       "  user  exp_id  treatment session species  animal_id session  cs_id cs_epoch  \\\n",
       "1   JC  exp004        NaN   tes01     rat     286600   tes01  cs_01   pre_cs   \n",
       "2   JC  exp004        NaN   tes01     rat     286600   tes01  cs_01   pre_cs   \n",
       "3   JC  exp004        NaN   tes01     rat     286600   tes01  cs_01   pre_cs   \n",
       "4   JC  exp004        NaN   tes01     rat     286600   tes01  cs_01   pre_cs   \n",
       "5   JC  exp004        NaN   tes01     rat     286600   tes01  cs_01   pre_cs   \n",
       "\n",
       "   freezing_events  darting_events  \n",
       "1                0               0  \n",
       "2                0               0  \n",
       "3                0               0  \n",
       "4                0               0  \n",
       "5                0               0  "
      ]
     },
     "execution_count": 275,
     "metadata": {},
     "output_type": "execute_result"
    }
   ],
   "source": [
    "motion_dataframe['darting_events'] = darting_array\n",
    "motion_dataframe.head(5)"
   ]
  },
  {
   "cell_type": "markdown",
   "metadata": {},
   "source": [
    "## 6) Save data"
   ]
  },
  {
   "cell_type": "code",
   "execution_count": 276,
   "metadata": {},
   "outputs": [],
   "source": [
    "saving_basename = f'{rat.video_basename}_motion_analysis_dlc.csv'.lower()\n",
    "\n",
    "motion_dataframe.to_csv(os.path.join(step_a_save_dir, saving_basename))"
   ]
  },
  {
   "cell_type": "markdown",
   "metadata": {},
   "source": [
    "# Step B: Visualization of motion_analysis"
   ]
  },
  {
   "cell_type": "markdown",
   "metadata": {},
   "source": [
    "## 1) Visualize freezing events\n",
    "\n",
    "This step is used to visually inspect the data\n",
    "\n",
    "1.1) Define the "
   ]
  },
  {
   "cell_type": "code",
   "execution_count": 277,
   "metadata": {},
   "outputs": [
    {
     "data": {
      "text/plain": [
       "array(['cs_01', 'cs_02', 'cs_03', 'cs_04', 'cs_05'], dtype=object)"
      ]
     },
     "execution_count": 277,
     "metadata": {},
     "output_type": "execute_result"
    }
   ],
   "source": [
    "# Define the cs to plot\n",
    "cs_id_list = motion_dataframe['cs_id'].unique()\n",
    "cs_id_list"
   ]
  },
  {
   "cell_type": "markdown",
   "metadata": {},
   "source": [
    "### 8.1) Freezing raster plot"
   ]
  },
  {
   "cell_type": "code",
   "execution_count": 278,
   "metadata": {},
   "outputs": [
    {
     "data": {
      "image/png": "[encoded data removed]",
      "text/plain": [
       "<Figure size 864x216 with 1 Axes>"
      ]
     },
     "metadata": {
      "needs_background": "light"
     },
     "output_type": "display_data"
    }
   ],
   "source": [
    "freezing_raster, ax = plt.subplots(figsize=(12, 3))\n",
    "\n",
    "plot_events(\n",
    "    ax,\n",
    "    motion_dataframe, \n",
    "    cs_id_list,\n",
    "    rat, \n",
    "    event_type='freezing',\n",
    ")\n",
    "\n",
    "event_type='freezing'\n",
    "freezing_raster.suptitle(f'{event_type}_events', y=1.05, fontsize=16)\n",
    "plt.show()"
   ]
  },
  {
   "cell_type": "markdown",
   "metadata": {},
   "source": [
    "### 8.2) Darting raster plot"
   ]
  },
  {
   "cell_type": "code",
   "execution_count": 279,
   "metadata": {},
   "outputs": [
    {
     "data": {
      "image/png": "[encoded data removed]",
      "text/plain": [
       "<Figure size 864x216 with 1 Axes>"
      ]
     },
     "metadata": {
      "needs_background": "light"
     },
     "output_type": "display_data"
    }
   ],
   "source": [
    "darting_raster, ax = plt.subplots(figsize=(12, 3))\n",
    "\n",
    "plot_events(\n",
    "    ax,\n",
    "    motion_dataframe, \n",
    "    cs_id_list,\n",
    "    rat, \n",
    "    event_type='darting',\n",
    ")\n",
    "\n",
    "event_type='darting'\n",
    "darting_raster.suptitle(f'{event_type}_events', y=1.05, fontsize=16)\n",
    "plt.tight_layout()"
   ]
  },
  {
   "cell_type": "markdown",
   "metadata": {},
   "source": [
    "## 9) Save the data as \n",
    "\n",
    "Where to save? "
   ]
  },
  {
   "cell_type": "markdown",
   "metadata": {},
   "source": [
    "### 9.1) Freezing raster plot"
   ]
  },
  {
   "cell_type": "code",
   "execution_count": 280,
   "metadata": {},
   "outputs": [],
   "source": [
    "saving_basename = f'{rat.video_basename}_freezing_raster_plot.pdf'.lower()\n",
    "freezing_raster.savefig(os.path.join(step_a_save_dir, saving_basename), bbox_inches='tight')"
   ]
  },
  {
   "cell_type": "markdown",
   "metadata": {},
   "source": [
    "### 9.2) Darting raster plot"
   ]
  },
  {
   "cell_type": "code",
   "execution_count": 281,
   "metadata": {},
   "outputs": [],
   "source": [
    "saving_basename = f'{rat.video_basename}_darting_raster_plot.pdf'.lower()\n",
    "darting_raster.savefig(os.path.join(step_a_save_dir, saving_basename), bbox_inches='tight')"
   ]
  },
  {
   "cell_type": "code",
   "execution_count": null,
   "metadata": {},
   "outputs": [],
   "source": []
  }
 ],
 "metadata": {
  "kernelspec": {
   "display_name": "Python 3",
   "language": "python",
   "name": "python3"
  },
  "language_info": {
   "codemirror_mode": {
    "name": "ipython",
    "version": 3
   },
   "file_extension": ".py",
   "mimetype": "text/x-python",
   "name": "python",
   "nbconvert_exporter": "python",
   "pygments_lexer": "ipython3",
   "version": "3.7.6"
  }
 },
 "nbformat": 4,
 "nbformat_minor": 4
}
