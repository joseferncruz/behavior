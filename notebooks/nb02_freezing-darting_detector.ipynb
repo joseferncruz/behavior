{
 "cells": [
  {
   "cell_type": "markdown",
   "metadata": {},
   "source": [
    "# notebook n02: Freezing/Darting Detection\n",
    "\n",
    "Jose Oliveira da Cruz, PhD  | LeDoux Lab  \n",
    "jose.cruz@nyu.edu  \n",
    "\n",
    "<img src=\"LedouxLab_logo.jpg\" style=\"width: 300.464px; height: 100px; margin: 0px;\">   "
   ]
  },
  {
   "cell_type": "markdown",
   "metadata": {},
   "source": [
    "This notebooks takes data files from nb01_transform_dlc_output (i.e. ``_individual_preprocessing_dlc.csv``) and:\n",
    "\n",
    "A) Perform motion analysis\n",
    "\n",
    "1. Load deeplabcut data\n",
    "2. Fetch information about specific animal\n",
    "3. Create new empty dataframe to hold the results\n",
    "4. Freezing detector: Calculate freezing events based on euclidean distance\n",
    "5. Darting detector\n",
    "6. Save the data\n",
    "\n",
    "\n",
    "*Currently being developed: head_direction detector*  \n",
    "\n",
    "\n",
    "\n",
    "B) Motion analysis visualization\n",
    "\n",
    "1.\n"
   ]
  },
  {
   "cell_type": "code",
   "execution_count": null,
   "metadata": {},
   "outputs": [],
   "source": [
    "# Import dependencies\n",
    "#import numpy as np\n",
    "import pandas as pd\n",
    "import matplotlib.pyplot as plt\n",
    "from scipy.signal import savgol_filter, correlate\n",
    "import os\n",
    "import sys\n",
    "\n",
    "# Import my code\n",
    "from behavior.utils.organization import *\n",
    "from behavior.analysis.motion_analysis import *\n",
    "from behavior.analysis.freezing_analysis import *\n",
    "from behavior.visualization.plot_events import *\n"
   ]
  },
  {
   "cell_type": "markdown",
   "metadata": {},
   "source": [
    "## Specify where to save the data for each step (see above, A and B)"
   ]
  },
  {
   "cell_type": "code",
   "execution_count": null,
   "metadata": {},
   "outputs": [],
   "source": [
    "step_a_save_dir = r'D:\\GoogleDrive\\work\\postdoc_nyu\\scientific_projects\\individual_differences\\data\\interim\\EXP004\\motion_analysis_dlc'\n",
    "\n",
    "print(f'Does the directory exist? \\n a: {os.path.isdir(step_a_save_dir)}') "
   ]
  },
  {
   "cell_type": "markdown",
   "metadata": {},
   "source": [
    "# Step A: Perform Motion Analysis (so far: freezing and darting)"
   ]
  },
  {
   "cell_type": "markdown",
   "metadata": {},
   "source": [
    "## 1) Load `_individual_preprocessing_dlc.csv`"
   ]
  },
  {
   "cell_type": "code",
   "execution_count": null,
   "metadata": {},
   "outputs": [],
   "source": [
    "# Open dataframe\n",
    "\n",
    "dpath = r'D:\\GoogleDrive\\work\\postdoc_nyu\\scientific_projects\\individual_differences\\data\\interim\\EXP004\\individual_preprocessing_dlc'\n",
    "fpath = 'jc_exp004_20200110_tes01_r_286600_t00_individual_preprocessing_dlc.csv'\n",
    "\n",
    "print(f'File exists?\\n- {os.path.isfile(os.path.join(dpath, fpath))}')"
   ]
  },
  {
   "cell_type": "code",
   "execution_count": null,
   "metadata": {},
   "outputs": [],
   "source": [
    "# Load data\n",
    "dataframe = pd.read_csv(\n",
    "    \n",
    "    os.path.join(dpath, fpath),\n",
    "    index_col=0,\n",
    "    \n",
    ")\n",
    "\n",
    "# Inspect dataframe\n",
    "display(dataframe.head())"
   ]
  },
  {
   "cell_type": "markdown",
   "metadata": {},
   "source": [
    "## 2) Fetch information about a specific rat\n",
    "\n",
    "The code bellow will read the video key( e.g `JC_EXP005_20200124_TES01_R_287073_T00`) and search for the complete information about this specific animal.  \n",
    "Then it creates an instance of the Animal class with the complete information of the animal."
   ]
  },
  {
   "cell_type": "markdown",
   "metadata": {},
   "source": [
    "### 2.1) Load Global Animal Record and Experiment information"
   ]
  },
  {
   "cell_type": "code",
   "execution_count": null,
   "metadata": {},
   "outputs": [],
   "source": [
    "# Where is the main record?\n",
    "main_record_directory = r'D:\\GoogleDrive\\work\\postdoc_nyu\\scientific_projects\\individual_differences\\animal_record\\main_record'\n",
    "main_record_basename = 'main_record_20200325_151527.csv'\n",
    "\n",
    "main_record = os.path.join(main_record_directory,\n",
    "                           main_record_basename)"
   ]
  },
  {
   "cell_type": "code",
   "execution_count": null,
   "metadata": {},
   "outputs": [],
   "source": [
    "# Where is the information about the experiment?\n",
    "experiment_info_directory = r'D:\\GoogleDrive\\work\\postdoc_nyu\\scientific_projects\\individual_differences\\data\\interim\\EXP004\\bonsai_extraction_led_epochs_frame_rate'\n",
    "experiment_info_basename = 'JC_EXP004_20200110_TES01_cs_index_plus_frame_rate.csv'\n",
    "experiment_info = os.path.join(experiment_info_directory,\n",
    "                               experiment_info_basename)"
   ]
  },
  {
   "cell_type": "markdown",
   "metadata": {},
   "source": [
    "### 2.2) Fetch animal information"
   ]
  },
  {
   "cell_type": "code",
   "execution_count": null,
   "metadata": {},
   "outputs": [],
   "source": [
    "# Search object with regular expressions\n",
    "pattern = r'(\\w\\w_\\w\\w\\w\\d\\d\\d_\\d\\d\\d\\d\\d\\d\\d\\d_\\w\\w\\w\\d\\d_\\w_\\d\\d\\d\\d\\d\\d_\\w\\d\\d)'\n",
    "video_key = re.search(pattern, fpath).group()\n",
    "\n",
    "# Fetch information\n",
    "rat = fetch_animal_info(\n",
    "    video_key, \n",
    "    main_record, \n",
    "    experiment_info,\n",
    ")\n",
    "\n",
    "display(rat.__dict__)"
   ]
  },
  {
   "cell_type": "markdown",
   "metadata": {},
   "source": [
    "## 3) Create new empty dataframe to hold the results"
   ]
  },
  {
   "cell_type": "code",
   "execution_count": null,
   "metadata": {},
   "outputs": [],
   "source": [
    "columns = ['user', 'exp_id', 'treatment', 'session', 'species', 'animal_id', 'session', 'cs_id', 'cs_epoch']\n",
    "\n",
    "motion_dataframe = dataframe.copy()[columns]\n",
    "\n",
    "motion_dataframe.head()"
   ]
  },
  {
   "cell_type": "markdown",
   "metadata": {},
   "source": [
    "## 4) Freezing Detector\n",
    "\n",
    "The freezing detector uses:\n",
    "1. Four bodyparts: between_eyes, head, ear_right and ear_left \n",
    "2. Euclidean distance between 2 consecutive points for each frame. Bellow threshld, it is considered immobility\n",
    "3. Consider only events with minimum of 0.5 second of freezing (==15 frames)  \n",
    "\n",
    "### 4.1) Define Variables"
   ]
  },
  {
   "cell_type": "code",
   "execution_count": null,
   "metadata": {},
   "outputs": [],
   "source": [
    "# Define bodyparts\n",
    "bodyparts = ['head', 'ear_right', 'ear_left', 'between_eyes']\n",
    "motion_threshold = 0.20 # in cmarray_to_return\n",
    "min_freezing_duration = 15 # minimum duration in frames, for 30fps == 0.5 second"
   ]
  },
  {
   "cell_type": "markdown",
   "metadata": {},
   "source": [
    "### 4.2) Extract Freezing"
   ]
  },
  {
   "cell_type": "code",
   "execution_count": null,
   "metadata": {},
   "outputs": [],
   "source": [
    "freezing_array = extract_freezing_events(dataframe, bodyparts, motion_threshold, min_freezing_duration)"
   ]
  },
  {
   "cell_type": "markdown",
   "metadata": {},
   "source": [
    "### 4.3) Update the dataframe with freezing event"
   ]
  },
  {
   "cell_type": "code",
   "execution_count": null,
   "metadata": {},
   "outputs": [],
   "source": [
    "motion_dataframe['freezing_events'] = freezing_array\n",
    "motion_dataframe.head()"
   ]
  },
  {
   "cell_type": "markdown",
   "metadata": {},
   "source": [
    "## 5) Darting Detector\n",
    "\n",
    "Darting must respect 2 conditions: \n",
    "1. Increased in speed higher than `mean` + `1*std` of the raw signal and,\n",
    "2. Cumulative distance of more than `15 cm` during the events detected in 1)."
   ]
  },
  {
   "cell_type": "markdown",
   "metadata": {},
   "source": [
    "### 5.1) Define variables and conditions\n"
   ]
  },
  {
   "cell_type": "code",
   "execution_count": null,
   "metadata": {},
   "outputs": [],
   "source": [
    "# Define thresholds\n",
    "threshold_speed = calculate_threshold(dataframe['speed_head'], factor=1)\n",
    "\n",
    "# Distance coverted during an event\n",
    "threshold_distance = 15 # cm\n",
    "\n",
    "# Data to calculate \n",
    "speed_array = savgol_filter(dataframe['speed_head'].to_numpy(), window_length=9, polyorder=1)\n",
    "distance_array = dataframe['ed_head'].to_numpy()\n"
   ]
  },
  {
   "cell_type": "markdown",
   "metadata": {},
   "source": [
    "### 5.2) Extract Darting"
   ]
  },
  {
   "cell_type": "code",
   "execution_count": null,
   "metadata": {},
   "outputs": [],
   "source": [
    "darting_array, darting_list_index = extract_darting_events(\n",
    "    speed_array,\n",
    "    distance_array,\n",
    "    threshold_speed,\n",
    "    threshold_distance,\n",
    ")"
   ]
  },
  {
   "cell_type": "markdown",
   "metadata": {},
   "source": [
    "### 5.3) Update the dataframe with darting events"
   ]
  },
  {
   "cell_type": "code",
   "execution_count": null,
   "metadata": {},
   "outputs": [],
   "source": [
    "motion_dataframe['darting_events'] = darting_array\n",
    "motion_dataframe.head(5)"
   ]
  },
  {
   "cell_type": "markdown",
   "metadata": {},
   "source": [
    "## 6) Save data"
   ]
  },
  {
   "cell_type": "code",
   "execution_count": null,
   "metadata": {},
   "outputs": [],
   "source": [
    "saving_basename = f'{rat.video_basename}_motion_analysis_dlc.csv'.lower()\n",
    "\n",
    "motion_dataframe.to_csv(os.path.join(step_a_save_dir, saving_basename))"
   ]
  },
  {
   "cell_type": "markdown",
   "metadata": {},
   "source": [
    "# Step B: Visualization of motion_analysis"
   ]
  },
  {
   "cell_type": "markdown",
   "metadata": {},
   "source": [
    "## 1) Visualize freezing events\n",
    "\n",
    "This step is used to visually inspect the data\n",
    "\n",
    "1.1) Define the "
   ]
  },
  {
   "cell_type": "code",
   "execution_count": null,
   "metadata": {},
   "outputs": [],
   "source": [
    "# Define the cs to plot\n",
    "cs_id_list = motion_dataframe['cs_id'].unique()\n",
    "cs_id_list"
   ]
  },
  {
   "cell_type": "markdown",
   "metadata": {},
   "source": [
    "### 8.1) Freezing raster plot"
   ]
  },
  {
   "cell_type": "code",
   "execution_count": null,
   "metadata": {},
   "outputs": [],
   "source": [
    "freezing_raster, ax = plt.subplots(figsize=(12, 3))\n",
    "\n",
    "plot_events(\n",
    "    ax,\n",
    "    motion_dataframe, \n",
    "    cs_id_list,\n",
    "    rat, \n",
    "    event_type='freezing',\n",
    ")\n",
    "\n",
    "event_type='freezing'\n",
    "freezing_raster.suptitle(f'{event_type}_events', y=1.05, fontsize=16)\n",
    "plt.show()"
   ]
  },
  {
   "cell_type": "markdown",
   "metadata": {},
   "source": [
    "### 8.2) Darting raster plot"
   ]
  },
  {
   "cell_type": "code",
   "execution_count": null,
   "metadata": {},
   "outputs": [],
   "source": [
    "darting_raster, ax = plt.subplots(figsize=(12, 3))\n",
    "\n",
    "plot_events(\n",
    "    ax,\n",
    "    motion_dataframe, \n",
    "    cs_id_list,\n",
    "    rat, \n",
    "    event_type='darting',\n",
    ")\n",
    "\n",
    "event_type='darting'\n",
    "darting_raster.suptitle(f'{event_type}_events', y=1.05, fontsize=16)\n",
    "plt.tight_layout()"
   ]
  },
  {
   "cell_type": "markdown",
   "metadata": {},
   "source": [
    "## 9) Save the data as \n",
    "\n",
    "Where to save? "
   ]
  },
  {
   "cell_type": "markdown",
   "metadata": {},
   "source": [
    "### 9.1) Freezing raster plot"
   ]
  },
  {
   "cell_type": "code",
   "execution_count": null,
   "metadata": {},
   "outputs": [],
   "source": [
    "saving_basename = f'{rat.video_basename}_freezing_raster_plot.pdf'.lower()\n",
    "freezing_raster.savefig(os.path.join(step_a_save_dir, saving_basename), bbox_inches='tight')"
   ]
  },
  {
   "cell_type": "markdown",
   "metadata": {},
   "source": [
    "### 9.2) Darting raster plot"
   ]
  },
  {
   "cell_type": "code",
   "execution_count": null,
   "metadata": {},
   "outputs": [],
   "source": [
    "saving_basename = f'{rat.video_basename}_darting_raster_plot.pdf'.lower()\n",
    "darting_raster.savefig(os.path.join(step_a_save_dir, saving_basename), bbox_inches='tight')"
   ]
  },
  {
   "cell_type": "code",
   "execution_count": null,
   "metadata": {},
   "outputs": [],
   "source": []
  }
 ],
 "metadata": {
  "kernelspec": {
   "display_name": "Python 3",
   "language": "python",
   "name": "python3"
  },
  "language_info": {
   "codemirror_mode": {
    "name": "ipython",
    "version": 3
   },
   "file_extension": ".py",
   "mimetype": "text/x-python",
   "name": "python",
   "nbconvert_exporter": "python",
   "pygments_lexer": "ipython3",
   "version": "3.7.6"
  }
 },
 "nbformat": 4,
 "nbformat_minor": 4
}
