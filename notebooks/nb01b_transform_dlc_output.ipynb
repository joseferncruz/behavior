{
 "cells": [
  {
   "cell_type": "markdown",
   "metadata": {},
   "source": [
    "# notebook n01b: Transform raw data from DeepLabCut > euclidean distance and Speed \n",
    "\n",
    "Jose Oliveira da Cruz, PhD  | LeDoux Lab  \n",
    "jose.cruz@nyu.edu  \n",
    "\n",
    "<img src=\"https://misophoniainternational.com/wp-content/uploads/2016/04/LedouxLab.jpg\" style=\"width: 200.464px; height: 200px; margin: 0px;\">"
   ]
  },
  {
   "cell_type": "markdown",
   "metadata": {},
   "source": [
    "This notebooks takes raw datafiles (coord x, y) from deeplabcut and tranform the data to:\n",
    "\n",
    "A) Prepare first ``_individual_preprocessing_dlc.csv`` file with\n",
    "\n",
    "1. Load deeplabcut data\n",
    "2. Fetch information from each individual animal\n",
    "3. Calculate euclidean distance (cm) between each set of coordinates (i.e. bodypart)\n",
    "    - Data interpolation to correct for variable frame aquisition.\n",
    "4. Calculate the speed (cm/sec) for each point calculated in 1.\n",
    "5. Save the data\n",
    "\n",
    "B) Visualization of euclidean distance / speed"
   ]
  },
  {
   "cell_type": "code",
   "execution_count": null,
   "metadata": {},
   "outputs": [],
   "source": [
    "# Import dependencies\n",
    "#import numpy as np\n",
    "import pandas as pd\n",
    "import matplotlib.pyplot as plt\n",
    "from scipy.signal import savgol_filter, correlate\n",
    "import os\n",
    "import sys\n",
    "\n",
    "\n",
    "# Import my code\n",
    "sys.path.append(r'D:\\GoogleDrive\\work\\postdoc_nyu\\scientific_projects\\individual_differences\\src')\n",
    "from tools.utils.organization import *\n",
    "from analysis.motion_analysis import *\n",
    "from analysis.freezing_analysis import *\n",
    "from visualization import *\n",
    "from visualization.plot_events import *\n"
   ]
  },
  {
   "cell_type": "markdown",
   "metadata": {},
   "source": [
    "## Specify where to save the data for each step\n",
    "### Step A: directory `individual_preprocessing_dlc`"
   ]
  },
  {
   "cell_type": "code",
   "execution_count": null,
   "metadata": {},
   "outputs": [],
   "source": [
    "step_a_save_dir = r'D:\\GoogleDrive\\work\\postdoc_nyu\\scientific_projects\\individual_differences\\data\\interim\\EXP004\\individual_preprocessing_dlc'\n",
    "\n",
    "print(f'Does the directory exist? \\n a: {os.path.isdir(step_a_save_dir)}') "
   ]
  },
  {
   "cell_type": "markdown",
   "metadata": {},
   "source": [
    "# Step A: ``_individual_preprocessing_dlc.csv``"
   ]
  },
  {
   "cell_type": "markdown",
   "metadata": {},
   "source": [
    "## 1) Load **individual** raw data from deeplabcut"
   ]
  },
  {
   "cell_type": "code",
   "execution_count": null,
   "metadata": {},
   "outputs": [],
   "source": [
    "# Open dataframe\n",
    "\n",
    "dpath = r'D:\\GoogleDrive\\work\\postdoc_nyu\\scientific_projects\\individual_differences\\data\\interim\\EXP004\\deeplabcut_pose_extraction'\n",
    "fpath = 'JC_EXP004_20200110_TES01_R_286600_T00DLC_resnet50_threat_conditioningMay18shuffle1_300000.h5'\n",
    "\n",
    "print(f'File exists?\\n- {os.path.isfile(os.path.join(dpath, fpath))}')"
   ]
  },
  {
   "cell_type": "code",
   "execution_count": null,
   "metadata": {},
   "outputs": [],
   "source": [
    "# Load data\n",
    "df = pd.read_hdf(\n",
    "    os.path.join(dpath, fpath), \n",
    "    header=[1, 2],\n",
    ")\n",
    "#Inspect dataframe\n",
    "df.head(5)"
   ]
  },
  {
   "cell_type": "markdown",
   "metadata": {},
   "source": [
    "## 2) Fetch information about a specific rat\n",
    "\n",
    "The code bellow will read the video key( e.g `JC_EXP005_20200124_TES01_R_287073_T00`) and search for the complete information about this specific animal.  \n",
    "Then it creates an instance of the Animal class with the complete information of the animal."
   ]
  },
  {
   "cell_type": "markdown",
   "metadata": {},
   "source": [
    "### 2.1) Load Global Animal Record and Experiment information"
   ]
  },
  {
   "cell_type": "code",
   "execution_count": null,
   "metadata": {},
   "outputs": [],
   "source": [
    "# Where is the main record?\n",
    "main_record_directory = r'D:\\GoogleDrive\\work\\postdoc_nyu\\scientific_projects\\individual_differences\\animal_record\\main_record'\n",
    "main_record_basename = 'main_record_20200325_151527.csv'\n",
    "\n",
    "main_record = os.path.join(main_record_directory,\n",
    "                           main_record_basename)\n",
    "\n",
    "\n",
    "# Where is the information about the experiment?\n",
    "experiment_info_directory = r'D:\\GoogleDrive\\work\\postdoc_nyu\\scientific_projects\\individual_differences\\data\\interim\\EXP004\\bonsai_extraction_led_epochs_frame_rate'\n",
    "experiment_info_basename = 'JC_EXP004_20200110_TES01_cs_index_plus_frame_rate.csv'\n",
    "experiment_info = os.path.join(experiment_info_directory,\n",
    "                               experiment_info_basename)"
   ]
  },
  {
   "cell_type": "markdown",
   "metadata": {},
   "source": [
    "### 2.2) Fetch animal information"
   ]
  },
  {
   "cell_type": "code",
   "execution_count": null,
   "metadata": {},
   "outputs": [],
   "source": [
    "# Search object with regular expressions\n",
    "pattern = r'(\\w\\w_\\w\\w\\w\\d\\d\\d_\\d\\d\\d\\d\\d\\d\\d\\d_\\w\\w\\w\\d\\d_\\w_\\d\\d\\d\\d\\d\\d_\\w\\d\\d)'\n",
    "video_key = re.search(pattern, fpath).group()\n",
    "\n",
    "# Fetch information\n",
    "rat = fetch_animal_info(\n",
    "    video_key, \n",
    "    main_record, \n",
    "    experiment_info,\n",
    ")"
   ]
  },
  {
   "cell_type": "markdown",
   "metadata": {},
   "source": [
    "## 3) Generate a dataframe with the euclidean distance for each bodypart\n",
    "**[May take a while]**\n",
    "\n",
    "\n",
    "The first step is to create a dataframe with the information fetched in 2) and calculate the euclidean distance based on the raw data points provided by the deeplabcut.\n",
    "This step will also correct the frame rate aquisition to 30 fps using a numpy interpolation function."
   ]
  },
  {
   "cell_type": "code",
   "execution_count": null,
   "metadata": {},
   "outputs": [],
   "source": [
    "dataframe, ed_dict = calculate_euclidean_distance_dataframe(df, rat)\n",
    "dataframe.head()"
   ]
  },
  {
   "cell_type": "markdown",
   "metadata": {},
   "source": [
    "## 4) Calculate the speed for each body part\n",
    "\n",
    "Built on the results from the step 3), this section calculates the body speed for each bodypart."
   ]
  },
  {
   "cell_type": "code",
   "execution_count": null,
   "metadata": {},
   "outputs": [],
   "source": [
    "# Extract the bodyparts\n",
    "idx = pd.IndexSlice\n",
    "\n",
    "bodyparts_list = list({bodypart for scorer, bodypart, coord in df.columns})\n",
    "\n",
    "dataframe = calculate_speed_dataframe(dataframe, bodyparts_list, frame_rate=30)\n",
    "dataframe.head(3)"
   ]
  },
  {
   "cell_type": "markdown",
   "metadata": {},
   "source": [
    "## 5) Save the data as "
   ]
  },
  {
   "cell_type": "code",
   "execution_count": null,
   "metadata": {},
   "outputs": [],
   "source": [
    "saving_basename = f'{rat.video_basename}_individual_preprocessing_dlc.csv'.lower()\n",
    "\n",
    "dataframe.to_csv(os.path.join(step_a_save_dir, saving_basename))"
   ]
  },
  {
   "cell_type": "markdown",
   "metadata": {},
   "source": [
    "# Step B: Visualization of euclidean distance and speed\n",
    "\n",
    "Quick visualization of cumulative euclidean distance and speed. Currently allows the selection of all the bodyparts  labelled by dlc, all the cs_id and pre/peri/post_cs epochs"
   ]
  },
  {
   "cell_type": "code",
   "execution_count": null,
   "metadata": {},
   "outputs": [],
   "source": [
    "bodypart = 'head'\n",
    "cs = 'cs_03'\n",
    "epoch = 'peri_cs'\n",
    "\n",
    "# Extract the arrays to be used for plotting\n",
    "speed, distance = extract_speed_distance_from_dataframe(dataframe, bodypart, cs, epoch)"
   ]
  },
  {
   "cell_type": "code",
   "execution_count": null,
   "metadata": {},
   "outputs": [],
   "source": [
    "#Plot pre_cs\n",
    "fig, ax = plt.subplots()\n",
    "\n",
    "plot_distance_speed(\n",
    "    ax,\n",
    "    speed,\n",
    "    distance,\n",
    "    'speed (cm/sec)',\n",
    "    'distance (cumsum, cm)',\n",
    "    epoch,\n",
    "    cs,\n",
    "    (0, 300),\n",
    ")\n",
    "plt.show()"
   ]
  },
  {
   "cell_type": "code",
   "execution_count": null,
   "metadata": {},
   "outputs": [],
   "source": []
  }
 ],
 "metadata": {
  "kernelspec": {
   "display_name": "Python 3",
   "language": "python",
   "name": "python3"
  },
  "language_info": {
   "codemirror_mode": {
    "name": "ipython",
    "version": 3
   },
   "file_extension": ".py",
   "mimetype": "text/x-python",
   "name": "python",
   "nbconvert_exporter": "python",
   "pygments_lexer": "ipython3",
   "version": "3.7.6"
  }
 },
 "nbformat": 4,
 "nbformat_minor": 4
}
