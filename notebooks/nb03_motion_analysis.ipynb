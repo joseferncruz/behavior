{
 "cells": [
  {
   "cell_type": "markdown",
   "metadata": {},
   "source": [
    "# notebook n03: Freezing/Darting Analysis\n",
    "\n",
    "Jose Oliveira da Cruz, PhD  | LeDoux Lab  \n",
    "jose.cruz@nyu.edu  \n",
    "\n",
    "<img src=\"LedouxLab_logo.jpg\" style=\"width: 300.464px; height: 100px; margin: 0px;\">   "
   ]
  },
  {
   "cell_type": "markdown",
   "metadata": {},
   "source": [
    "This notebooks takes the .csv output from nb02\n",
    "\n",
    "A) ``_individual_summary_stats.csv``\n",
    "\n",
    "1. Load data from nb01 (ie `_individual_preprocessing_dlc.csv`) and nb02 (`_motion_analysis_dlc.csv`)\n",
    "2. Fetch animal information\n",
    "3. Create shell record with basic experiment/rat information\n",
    "4. Calculate darting\n",
    "5. Calculate freezing\n",
    "6. Calcultate total distance\n",
    "7. Calculate average speed\n",
    "8. Save the data"
   ]
  },
  {
   "cell_type": "code",
   "execution_count": null,
   "metadata": {},
   "outputs": [],
   "source": [
    "# Import dependencies\n",
    "import pandas as pd\n",
    "import os\n",
    "import sys\n",
    "\n",
    "# Import my code\n",
    "from behavior.utils.organization import *\n",
    "from behavior.analysis.motion_analysis import *\n",
    "from behavior.analysis.freezing_analysis import *\n",
    "from behavior.visualization.plot_events import *"
   ]
  },
  {
   "cell_type": "markdown",
   "metadata": {},
   "source": [
    "## Specify where to save the data for each step"
   ]
  },
  {
   "cell_type": "code",
   "execution_count": null,
   "metadata": {},
   "outputs": [],
   "source": [
    "step_a_save_dir = r'D:\\GoogleDrive\\work\\postdoc_nyu\\scientific_projects\\individual_differences\\data\\processed\\EXP004\\individual_summary_stats'\n",
    "\n",
    "print(f'Does the directory exist? \\n a: {os.path.isdir(step_a_save_dir)}') "
   ]
  },
  {
   "cell_type": "markdown",
   "metadata": {},
   "source": [
    "# Step A: ``_individual_summary_stats.csv``\n",
    "The code bellow will calculate:\n",
    "1. Load data from nb01 (ie `_individual_preprocessing_dlc.csv`) and nb02 (`_motion_analysis_dlc.csv`)\n",
    "2. Fetch animal information\n",
    "3. Create shell record with basic experiment/rat information\n",
    "4. Calculate darting\n",
    "5. Calculate freezing\n",
    "6. Calcultate total distance\n",
    "7. Calculate average speed\n",
    "8. Save the data"
   ]
  },
  {
   "cell_type": "markdown",
   "metadata": {},
   "source": [
    "## 1) Load necessary data files"
   ]
  },
  {
   "cell_type": "markdown",
   "metadata": {},
   "source": [
    "### 1.1) Load `_individual_preprocessing_dlc.csv` from nb01b"
   ]
  },
  {
   "cell_type": "code",
   "execution_count": null,
   "metadata": {},
   "outputs": [],
   "source": [
    "dpath_preprocessing = r'D:\\GoogleDrive\\work\\postdoc_nyu\\scientific_projects\\individual_differences\\data\\interim\\EXP004\\individual_preprocessing_dlc'\n",
    "fpath_preprocessing = 'jc_exp004_20200110_tes01_r_286600_t00_individual_preprocessing_dlc.csv'\n",
    "\n",
    "print(f'File exists?\\n- {os.path.isfile(os.path.join(dpath_preprocessing, fpath_preprocessing))}')"
   ]
  },
  {
   "cell_type": "code",
   "execution_count": null,
   "metadata": {},
   "outputs": [],
   "source": [
    "preprocessing_dataframe = pd.read_csv(os.path.join(dpath_preprocessing, fpath_preprocessing), index_col=0)\n",
    "preprocessing_dataframe.head()"
   ]
  },
  {
   "cell_type": "markdown",
   "metadata": {},
   "source": [
    "### 1.2) Load data file `_motion_analysis_dlc.csv` from nb02"
   ]
  },
  {
   "cell_type": "code",
   "execution_count": null,
   "metadata": {},
   "outputs": [],
   "source": [
    "dpath_motion = r'D:\\GoogleDrive\\work\\postdoc_nyu\\scientific_projects\\individual_differences\\data\\interim\\EXP004\\motion_analysis_dlc'\n",
    "fpath_motion = 'jc_exp004_20200110_tes01_r_286600_t00_motion_analysis_dlc.csv'\n",
    "\n",
    "print(f'File exists?\\n- {os.path.isfile(os.path.join(dpath_motion, fpath_motion))}')"
   ]
  },
  {
   "cell_type": "code",
   "execution_count": null,
   "metadata": {},
   "outputs": [],
   "source": [
    "motion_dataframe = pd.read_csv(os.path.join(dpath_motion, fpath_motion), index_col=0)\n",
    "motion_dataframe.head()"
   ]
  },
  {
   "cell_type": "markdown",
   "metadata": {},
   "source": [
    "## 2) Fetch information about a specific rat\n",
    "\n",
    "The code bellow will read the video key( e.g `JC_EXP005_20200124_TES01_R_287073_T00`) and search for the complete information about this specific animal.  \n",
    "Then it creates an instance of the Animal class with the complete information of the animal."
   ]
  },
  {
   "cell_type": "markdown",
   "metadata": {},
   "source": [
    "### 2.1) Load Animal Record and Experiment information"
   ]
  },
  {
   "cell_type": "code",
   "execution_count": null,
   "metadata": {},
   "outputs": [],
   "source": [
    "# Where is the main record?\n",
    "main_record_directory = r'D:\\GoogleDrive\\work\\postdoc_nyu\\scientific_projects\\individual_differences\\animal_record\\main_record'\n",
    "main_record_basename = 'main_record_20200325_151527.csv'\n",
    "\n",
    "main_record = os.path.join(main_record_directory,\n",
    "                           main_record_basename)\n",
    "\n",
    "\n",
    "# Where is the information about the experiment?\n",
    "experiment_info_directory = r'D:\\GoogleDrive\\work\\postdoc_nyu\\scientific_projects\\individual_differences\\data\\interim\\EXP004\\bonsai_extraction_led_epochs_frame_rate'\n",
    "experiment_info_basename = 'JC_EXP004_20200110_TES01_cs_index_plus_frame_rate.csv'\n",
    "experiment_info = os.path.join(experiment_info_directory,\n",
    "                               experiment_info_basename)"
   ]
  },
  {
   "cell_type": "markdown",
   "metadata": {},
   "source": [
    "### 2.2) Fetch animal information"
   ]
  },
  {
   "cell_type": "code",
   "execution_count": null,
   "metadata": {},
   "outputs": [],
   "source": [
    "# Search object with regular expressions\n",
    "pattern = r'(\\w\\w_\\w\\w\\w\\d\\d\\d_\\d\\d\\d\\d\\d\\d\\d\\d_\\w\\w\\w\\d\\d_\\w_\\d\\d\\d\\d\\d\\d_\\w\\d\\d)'\n",
    "video_key = re.search(pattern, fpath_motion).group()\n",
    "\n",
    "# Fetch information\n",
    "rat = fetch_animal_info(\n",
    "    video_key, \n",
    "    main_record, \n",
    "    experiment_info,\n",
    ")"
   ]
  },
  {
   "cell_type": "markdown",
   "metadata": {},
   "source": [
    "## 3) Create individual_summary_stats shell (named bellow as ``df``) to begin storing the data\n",
    "This step can be used to update any basic information about the animal"
   ]
  },
  {
   "cell_type": "code",
   "execution_count": null,
   "metadata": {},
   "outputs": [],
   "source": [
    "df = create_basic_working_record(rat, 15)\n",
    "df.head()"
   ]
  },
  {
   "cell_type": "markdown",
   "metadata": {},
   "source": [
    "## 4) Calculate freezing per cs and per epoch and concatenate with ``df``\n",
    "\n",
    "Freezing will be calculated as:\n",
    "1. ``freezing_raw``: total freezing time per epoch\n",
    "2. ``freezing_norm``: total freezing time per epoch divided by epoch duration"
   ]
  },
  {
   "cell_type": "markdown",
   "metadata": {},
   "source": [
    "### 4.1) Calculate freezing "
   ]
  },
  {
   "cell_type": "code",
   "execution_count": null,
   "metadata": {},
   "outputs": [],
   "source": [
    "mean_freezing = calculate_mean_freezing(motion_dataframe)"
   ]
  },
  {
   "cell_type": "markdown",
   "metadata": {},
   "source": [
    "### 4.2) Concatenate with ``df``"
   ]
  },
  {
   "cell_type": "code",
   "execution_count": null,
   "metadata": {},
   "outputs": [],
   "source": [
    "df = pd.concat([df, mean_freezing], axis=1)"
   ]
  },
  {
   "cell_type": "code",
   "execution_count": null,
   "metadata": {},
   "outputs": [],
   "source": [
    "# Freezind during cs (ie. 'peri_cs') \n",
    "df[df['cs_epoch'] == 'peri_cs']"
   ]
  },
  {
   "cell_type": "markdown",
   "metadata": {},
   "source": [
    "## 5) Calculate darting per cs and per epoch and concatenate with ``df``\n",
    "\n",
    "Darting will be calculated as:\n",
    "1. ``darting_raw``: total darting time per epoch\n",
    "2. ``darting_norm``: total darting time per epoch divided by epoch duration\n",
    "3. ``darting_events``: number of darting events"
   ]
  },
  {
   "cell_type": "markdown",
   "metadata": {},
   "source": [
    "### 5.1) Calculate Darting"
   ]
  },
  {
   "cell_type": "code",
   "execution_count": null,
   "metadata": {},
   "outputs": [],
   "source": [
    "mean_darting = calculate_mean_darting(motion_dataframe)"
   ]
  },
  {
   "cell_type": "markdown",
   "metadata": {},
   "source": [
    "### 5.2) Concatenate with ``df``"
   ]
  },
  {
   "cell_type": "code",
   "execution_count": null,
   "metadata": {},
   "outputs": [],
   "source": [
    "df = df.merge(mean_darting, on=['cs_id', 'cs_epoch'])\n",
    "df.head()"
   ]
  },
  {
   "cell_type": "markdown",
   "metadata": {},
   "source": [
    "## 6) Calculate total distance\n",
    "\n",
    "Total distance:\n",
    "1. ``total_distance_cm``: measured by the ``ed_back_head`` coordinnates. Units in ``cm``.  \n"
   ]
  },
  {
   "cell_type": "markdown",
   "metadata": {},
   "source": [
    "### 6.1) Calculate the total distance"
   ]
  },
  {
   "cell_type": "code",
   "execution_count": null,
   "metadata": {},
   "outputs": [],
   "source": [
    "distance_per_epoch = calculate_distance_per_cs_epoch(\n",
    "    preprocessing_dataframe,\n",
    "    bodypart='ed_upper_torso',\n",
    "    units='cm',  \n",
    ")"
   ]
  },
  {
   "cell_type": "markdown",
   "metadata": {},
   "source": [
    "### 6.2) Concatenate with ``df``"
   ]
  },
  {
   "cell_type": "code",
   "execution_count": null,
   "metadata": {},
   "outputs": [],
   "source": [
    "df = df.merge(distance_per_epoch, on=['cs_id', 'cs_epoch'])\n",
    "df.head()"
   ]
  },
  {
   "cell_type": "markdown",
   "metadata": {},
   "source": [
    "# 7) Calculate average speed per cs/cs_epoch\n",
    "\n",
    "1. ``mean_speed_cm/sec``:\n"
   ]
  },
  {
   "cell_type": "markdown",
   "metadata": {},
   "source": [
    "### 7.1) Calculate the average speed"
   ]
  },
  {
   "cell_type": "code",
   "execution_count": null,
   "metadata": {},
   "outputs": [],
   "source": [
    "units = 'cm/sec'\n",
    "bodypart = 'speed_upper_torso'\n",
    "\n",
    "speed = calculate_mean_speed_per_epoch(preprocessing_dataframe, bodypart=bodypart, units=units)"
   ]
  },
  {
   "cell_type": "markdown",
   "metadata": {},
   "source": [
    "### 7.2) Concatenate with ``df``"
   ]
  },
  {
   "cell_type": "code",
   "execution_count": null,
   "metadata": {},
   "outputs": [],
   "source": [
    "df = df.merge(speed, on=['cs_id', 'cs_epoch'])\n",
    "df"
   ]
  },
  {
   "cell_type": "markdown",
   "metadata": {},
   "source": [
    "## 8) Export the dataframe as .csv files"
   ]
  },
  {
   "cell_type": "markdown",
   "metadata": {},
   "source": [
    "Export individual analysis. Output will be to processed data. No manual modification can be performed on this file. "
   ]
  },
  {
   "cell_type": "code",
   "execution_count": null,
   "metadata": {},
   "outputs": [],
   "source": [
    "saving_basename = f'{rat.video_basename}_individual_summary_stats.csv'.lower()\n",
    "\n",
    "df.to_csv(os.path.join(step_a_save_dir, saving_basename))"
   ]
  },
  {
   "cell_type": "markdown",
   "metadata": {},
   "source": [
    "# B) Merge dataframes from section A"
   ]
  },
  {
   "cell_type": "markdown",
   "metadata": {},
   "source": [
    "This step will search all the previously create dataframes at a specific location, and merge them in a single dataframe ready for analysis. Remove the `#` before calling the function."
   ]
  },
  {
   "cell_type": "code",
   "execution_count": null,
   "metadata": {},
   "outputs": [],
   "source": [
    "#concatenate_transformed_dataframes(step_a_save_dir, save_at_directory=True)"
   ]
  },
  {
   "cell_type": "code",
   "execution_count": null,
   "metadata": {},
   "outputs": [],
   "source": []
  }
 ],
 "metadata": {
  "kernelspec": {
   "display_name": "Python 3",
   "language": "python",
   "name": "python3"
  },
  "language_info": {
   "codemirror_mode": {
    "name": "ipython",
    "version": 3
   },
   "file_extension": ".py",
   "mimetype": "text/x-python",
   "name": "python",
   "nbconvert_exporter": "python",
   "pygments_lexer": "ipython3",
   "version": "3.7.6"
  }
 },
 "nbformat": 4,
 "nbformat_minor": 4
}
