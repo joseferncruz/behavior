{
 "cells": [
  {
   "cell_type": "markdown",
   "metadata": {},
   "source": [
    "# notebook n01a: Process and Visualize bodypart location\n",
    "\n",
    "Jose Oliveira da Cruz, PhD  | LeDoux Lab  \n",
    "jose.cruz@nyu.edu  \n",
    "\n",
    "<img src=\"https://misophoniainternational.com/wp-content/uploads/2016/04/LedouxLab.jpg\" style=\"width: 200.464px; height: 200px; margin: 0px;\">"
   ]
  },
  {
   "cell_type": "markdown",
   "metadata": {},
   "source": [
    "This notebooks takes raw datafiles (coord x, y) from deeplabcut and tranform the data to:\n",
    "\n",
    "Step A: Create ``_bodypart_coordinates_dlc.csv``\n",
    "1. Load data\n",
    "2. Fetch Animal information\n",
    "3. Extract interpolated bodypart coordinates for each cs and for each cs_epoch\n",
    "4. Plot animal bodypart trajectory\n",
    "\n",
    "Step B: Visualize bodypart trajectories"
   ]
  },
  {
   "cell_type": "code",
   "execution_count": null,
   "metadata": {},
   "outputs": [],
   "source": [
    "# Import dependencies\n",
    "import pandas as pd\n",
    "import matplotlib.pyplot as plt\n",
    "import os\n",
    "import sys\n",
    "\n",
    "# Import my code\n",
    "sys.path.append(r'D:\\GoogleDrive\\work\\postdoc_nyu\\scientific_projects\\individual_differences\\src')\n",
    "from tools.utils.organization import *\n",
    "from analysis.motion_analysis import *\n",
    "from analysis.freezing_analysis import *\n",
    "from visualization import *\n",
    "from visualization.plot_events import *"
   ]
  },
  {
   "cell_type": "markdown",
   "metadata": {},
   "source": [
    "## Specify where to save the data for step A"
   ]
  },
  {
   "cell_type": "code",
   "execution_count": null,
   "metadata": {},
   "outputs": [],
   "source": [
    "step_a_save_dir = r'D:\\GoogleDrive\\work\\postdoc_nyu\\scientific_projects\\individual_differences\\data\\interim\\EXP004\\bodypart_coordinates_dlc'\n",
    "\n",
    "print(f'Does the directory exist? \\n a: {os.path.isdir(step_a_save_dir)}') "
   ]
  },
  {
   "cell_type": "markdown",
   "metadata": {},
   "source": [
    "# Step A: ``_bodypart_coordinates_dlc.csv``"
   ]
  },
  {
   "cell_type": "markdown",
   "metadata": {},
   "source": [
    "## 1) Load **individual** raw data from deeplabcut\n",
    "\n",
    "### 1.1) Where is the file?"
   ]
  },
  {
   "cell_type": "code",
   "execution_count": null,
   "metadata": {},
   "outputs": [],
   "source": [
    "# Open dataframe\n",
    "\n",
    "dpath = r'D:\\GoogleDrive\\work\\postdoc_nyu\\scientific_projects\\individual_differences\\data\\interim\\EXP004\\deeplabcut_pose_extraction'\n",
    "fpath = 'JC_EXP004_20200110_TES01_R_286600_T00DLC_resnet50_threat_conditioningMay18shuffle1_300000.h5'\n",
    "\n",
    "print(f'File exists?\\n- {os.path.isfile(os.path.join(dpath, fpath))}')"
   ]
  },
  {
   "cell_type": "markdown",
   "metadata": {},
   "source": [
    "### 1.2) Open the file"
   ]
  },
  {
   "cell_type": "code",
   "execution_count": null,
   "metadata": {},
   "outputs": [],
   "source": [
    "# Load data\n",
    "df = pd.read_hdf(\n",
    "    os.path.join(dpath, fpath), \n",
    "    header=[1, 2],\n",
    ")\n",
    "#Inspect dataframe\n",
    "df.head(5)"
   ]
  },
  {
   "cell_type": "markdown",
   "metadata": {},
   "source": [
    "## 2) Fetch information about a specific rat\n",
    "\n",
    "The code bellow will read the video key( e.g `JC_EXP005_20200124_TES01_R_287073_T00`) and search for the complete information about this specific animal.  \n",
    "Then it creates an instance of the Animal class with the complete information of the animal."
   ]
  },
  {
   "cell_type": "markdown",
   "metadata": {},
   "source": [
    "### 2.1) Load Global Animal Record and Experiment information"
   ]
  },
  {
   "cell_type": "code",
   "execution_count": null,
   "metadata": {},
   "outputs": [],
   "source": [
    "# Where is the main record?\n",
    "main_record_directory = r'D:\\GoogleDrive\\work\\postdoc_nyu\\scientific_projects\\individual_differences\\animal_record\\main_record'\n",
    "main_record_basename = 'main_record_20200325_151527.csv'\n",
    "\n",
    "main_record = os.path.join(main_record_directory,\n",
    "                           main_record_basename)\n",
    "\n",
    "# Where is the information about the experiment?\n",
    "experiment_info_directory = r'D:\\GoogleDrive\\work\\postdoc_nyu\\scientific_projects\\individual_differences\\data\\interim\\EXP004\\bonsai_extraction_led_epochs_frame_rate'\n",
    "experiment_info_basename = 'JC_EXP004_20200110_TES01_cs_index_plus_frame_rate.csv'\n",
    "experiment_info = os.path.join(experiment_info_directory,\n",
    "                               experiment_info_basename)"
   ]
  },
  {
   "cell_type": "markdown",
   "metadata": {},
   "source": [
    "### 2.2) Fetch animal information"
   ]
  },
  {
   "cell_type": "code",
   "execution_count": null,
   "metadata": {},
   "outputs": [],
   "source": [
    "# Search object with regular expressions\n",
    "pattern = r'(\\w\\w_\\w\\w\\w\\d\\d\\d_\\d\\d\\d\\d\\d\\d\\d\\d_\\w\\w\\w\\d\\d_\\w_\\d\\d\\d\\d\\d\\d_\\w\\d\\d)'\n",
    "video_key = re.search(pattern, fpath).group()\n",
    "\n",
    "# Fetch information\n",
    "rat = fetch_animal_info(\n",
    "    video_key, \n",
    "    main_record, \n",
    "    experiment_info,\n",
    ")"
   ]
  },
  {
   "cell_type": "markdown",
   "metadata": {},
   "source": [
    "## 3) Extract interpolated bodypart coordinates for each cs and for each cs_epoch\n",
    "\n",
    "### 3.1) Extract interpolated tracking location\n",
    "The code bellow extracts the x, y position for each bodypart, during each cs_id and cs_epoch. In addition, it corrects aquisition rate for 30fps. "
   ]
  },
  {
   "cell_type": "code",
   "execution_count": null,
   "metadata": {},
   "outputs": [],
   "source": [
    "positions_dataframe = create_bodypart_coord_dataframe(df.copy(), rat)"
   ]
  },
  {
   "cell_type": "code",
   "execution_count": null,
   "metadata": {},
   "outputs": [],
   "source": [
    "positions_dataframe.head()"
   ]
  },
  {
   "cell_type": "markdown",
   "metadata": {},
   "source": [
    "### 3.2) Save file"
   ]
  },
  {
   "cell_type": "code",
   "execution_count": null,
   "metadata": {},
   "outputs": [],
   "source": [
    "saving_basename = f'{rat.video_basename}_bodypart_coordinates_dlc.csv'.lower()\n",
    "\n",
    "positions_dataframe.to_csv(os.path.join(step_a_save_dir, saving_basename))"
   ]
  },
  {
   "cell_type": "markdown",
   "metadata": {},
   "source": [
    "## 4) Plot position of the animal\n",
    "\n",
    "The code bellows allow to plot the position of a specific bodypart during a specific cs(e.g. cs_01) and specific epoch (eg peri_cs > during cs).  \n",
    "\n",
    "`fetch_bodypart_coordinates()` allows to fetch x, y coordinates for a specific bodypart using the above created dataframe.  To check the information doc associated with the function you can use:  \n",
    "- `fetch_bodypart_coordinates?`"
   ]
  },
  {
   "cell_type": "code",
   "execution_count": null,
   "metadata": {},
   "outputs": [],
   "source": [
    "fetch_bodypart_coordinates?"
   ]
  },
  {
   "cell_type": "markdown",
   "metadata": {},
   "source": [
    "### 4.1) Plot trajectory of bodypart before, during and after cs"
   ]
  },
  {
   "cell_type": "code",
   "execution_count": null,
   "metadata": {},
   "outputs": [],
   "source": [
    "fig_trajectories, ax = plt.subplots(figsize=[5, 5])\n",
    "\n",
    "cs_epochs = ['pre_cs', 'post_cs', 'peri_cs']\n",
    "for cs_epoch in cs_epochs:\n",
    "      plot_bodypart_trajectory(\n",
    "          ax=ax,\n",
    "          dataframe=positions_dataframe,\n",
    "          bodypart='upper_torso',\n",
    "          cs_id='cs_01',\n",
    "          cs_epoch=cs_epoch,\n",
    "          animal=rat,\n",
    "      )\n",
    "\n",
    "plt.show()"
   ]
  },
  {
   "cell_type": "code",
   "execution_count": null,
   "metadata": {},
   "outputs": [],
   "source": [
    "fig_trajectories, ax = plt.subplots(figsize=[5, 5])\n",
    "\n",
    "number_of_cs = 5\n",
    "\n",
    "cs_id_list = [f'cs_0{number}' for number in range(1, number_of_cs+1)]\n",
    "\n",
    "for cs_id in cs_id_list:\n",
    "      plot_bodypart_trajectory(\n",
    "          ax=ax,\n",
    "          dataframe=positions_dataframe,\n",
    "          bodypart='upper_torso',\n",
    "          cs_id=cs_id,\n",
    "          cs_epoch='peri_cs',\n",
    "          animal=rat,\n",
    "      )\n",
    "\n",
    "plt.show()"
   ]
  },
  {
   "cell_type": "markdown",
   "metadata": {},
   "source": [
    "### Save fig\n",
    "\n",
    "`fname` = absolute path > where do you want the figure to be saved. Must include extension (e.g. `.pdf`)\n",
    "example:  \n",
    "`fname=C:\\Users\\jfo2\\Desktop\\test_data\\figure.pdf`\n"
   ]
  },
  {
   "cell_type": "code",
   "execution_count": null,
   "metadata": {},
   "outputs": [],
   "source": [
    "#fig_trajectories.savefig(\n",
    "#    fname=,\n",
    "#    bbox_inches='tight',\n",
    "#)"
   ]
  },
  {
   "cell_type": "markdown",
   "metadata": {},
   "source": [
    "### 4.3) Try other combinations by changing the arguments of the function"
   ]
  },
  {
   "cell_type": "code",
   "execution_count": null,
   "metadata": {},
   "outputs": [],
   "source": [
    "fig_trajectories, ax = plt.subplots(figsize=[5, 5])\n",
    "\n",
    "plot_bodypart_trajectory(\n",
    "    ax=ax,\n",
    "    dataframe=positions_dataframe,\n",
    "    bodypart='upper_torso',\n",
    "    cs_id='cs_01',\n",
    "    cs_epoch='peri_cs',\n",
    "    animal=rat,\n",
    ")\n",
    "\n",
    "plt.show()"
   ]
  },
  {
   "cell_type": "code",
   "execution_count": null,
   "metadata": {},
   "outputs": [],
   "source": []
  }
 ],
 "metadata": {
  "kernelspec": {
   "display_name": "Python 3",
   "language": "python",
   "name": "python3"
  },
  "language_info": {
   "codemirror_mode": {
    "name": "ipython",
    "version": 3
   },
   "file_extension": ".py",
   "mimetype": "text/x-python",
   "name": "python",
   "nbconvert_exporter": "python",
   "pygments_lexer": "ipython3",
   "version": "3.7.6"
  }
 },
 "nbformat": 4,
 "nbformat_minor": 4
}
